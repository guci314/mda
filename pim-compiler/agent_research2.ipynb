{
 "cells": [
  {
   "cell_type": "code",
   "execution_count": 3,
   "id": "f0cd0365",
   "metadata": {},
   "outputs": [
    {
     "data": {
      "text/plain": [
       "True"
      ]
     },
     "execution_count": 3,
     "metadata": {},
     "output_type": "execute_result"
    }
   ],
   "source": [
    "import os\n",
    "import sys\n",
    "import json\n",
    "from pathlib import Path\n",
    "from datetime import datetime\n",
    "\n",
    "# 添加项目路径\n",
    "current_dir = \"/home/guci/aiProjects/mda/pim-compiler/react_is_all_you_need\"\n",
    "if str(current_dir) not in sys.path:\n",
    "    sys.path.insert(0, str(current_dir))\n",
    "\n",
    "from core.react_agent import ReactAgent  # type: ignore\n",
    "from core.memory_manager import MemoryMode  # type: ignore\n",
    "from dotenv import load_dotenv\n",
    "load_dotenv()"
   ]
  },
  {
   "cell_type": "code",
   "execution_count": 4,
   "id": "1f6cab86",
   "metadata": {},
   "outputs": [
    {
     "name": "stdout",
     "output_type": "stream",
     "text": [
      "🚀 记忆系统已启用 - 完整异步模式\n",
      "  - 状态记忆: 异步VSCode（潜意识/显意识）\n",
      "  - 过程记忆: 异步多视图（5级清晰度）\n",
      "  - 视图缓存: test1/.message_views\n",
      "  - 上下文限制: 262,144 tokens\n"
     ]
    }
   ],
   "source": [
    "agent=ReactAgent(\n",
    "    work_dir=str(\"test1\"),\n",
    "    model=\"qwen/qwen3-coder\",\n",
    "    knowledge_files=[],\n",
    "    memory_mode=MemoryMode.FULL_ASYNC\n",
    ")"
   ]
  },
  {
   "cell_type": "code",
   "execution_count": 5,
   "id": "c049295d",
   "metadata": {},
   "outputs": [
    {
     "name": "stdout",
     "output_type": "stream",
     "text": [
      "\n",
      "[ReactAgent] 执行任务...\n",
      "📝 任务: \n",
      "你好\n",
      "\n",
      "\n",
      "🤔 思考第1轮...\n",
      "\n",
      "✅ 任务完成（第1轮）\n"
     ]
    },
    {
     "data": {
      "text/plain": [
       "'你好！我是Qwen Coder，一个专业的编程助手。我可以帮助你处理各种编程任务，比如代码生成、调试、文件操作等。如果你有任何问题或需要帮助，请随时告诉我！'"
      ]
     },
     "execution_count": 5,
     "metadata": {},
     "output_type": "execute_result"
    }
   ],
   "source": [
    "task='''\n",
    "你好\n",
    "'''\n",
    "agent.execute_task(task)"
   ]
  }
 ],
 "metadata": {
  "kernelspec": {
   "display_name": "Python 3",
   "language": "python",
   "name": "python3"
  },
  "language_info": {
   "codemirror_mode": {
    "name": "ipython",
    "version": 3
   },
   "file_extension": ".py",
   "mimetype": "text/x-python",
   "name": "python",
   "nbconvert_exporter": "python",
   "pygments_lexer": "ipython3",
   "version": "3.10.12"
  }
 },
 "nbformat": 4,
 "nbformat_minor": 5
}
