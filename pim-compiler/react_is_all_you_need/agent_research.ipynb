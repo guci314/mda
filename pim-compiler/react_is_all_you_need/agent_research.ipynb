{
 "cells": [
  {
   "cell_type": "code",
   "execution_count": 2,
   "id": "427ea140",
   "metadata": {},
   "outputs": [
    {
     "name": "stderr",
     "output_type": "stream",
     "text": [
      "/tmp/ipykernel_651651/2434408527.py:11: UserWarning: Parameters {'max_tokens'} should be specified explicitly. Instead they were passed in as part of `model_kwargs` parameter.\n",
      "  agent = GenericReactAgent(config)\n",
      "2025-07-28 05:34:21,198 - react_agent - WARNING - Failed to apply token counting patch: \"ChatOpenAI\" object has no field \"get_num_tokens\"\n",
      "2025-07-28 05:34:21,201 - react_agent - INFO - Memory disabled - using stateless mode\n",
      "2025-07-28 05:34:21,204 - react_agent - INFO - GenericReactAgent initialized with memory level: none\n",
      "2025-07-28 05:34:21,206 - react_agent - INFO - Loaded prior knowledge from: 先验知识.md\n"
     ]
    },
    {
     "name": "stdout",
     "output_type": "stream",
     "text": [
      "\n",
      "[1m> Starting task execution...[0m\n",
      "\n",
      "\n",
      "\u001b[1m> Entering new AgentExecutor chain...\u001b[0m\n"
     ]
    },
    {
     "name": "stderr",
     "output_type": "stream",
     "text": [
      "2025-07-28 05:34:21,513 - httpx - INFO - HTTP Request: POST https://api.deepseek.com/v1/chat/completions \"HTTP/1.1 200 OK\"\n"
     ]
    },
    {
     "name": "stdout",
     "output_type": "stream",
     "text": [
      "\u001b[32;1m\u001b[1;3mHello! How can I assist you today?\u001b[0m\n",
      "\n",
      "\u001b[1m> Finished chain.\u001b[0m\n",
      "[1m> Task completed.[0m\n"
     ]
    }
   ],
   "source": [
    "from react_agent import GenericReactAgent, ReactAgentConfig, MemoryLevel\n",
    "\n",
    "# 创建配置\n",
    "config = ReactAgentConfig(\n",
    "    output_dir=\"output\",\n",
    "    memory_level=MemoryLevel.NONE,\n",
    "    knowledge_file=\"先验知识.md\"\n",
    ")\n",
    "\n",
    "# 创建 Agent\n",
    "agent = GenericReactAgent(config)\n",
    "\n",
    "# 执行任务\n",
    "agent.execute_task(\"say hello\")"
   ]
  }
 ],
 "metadata": {
  "kernelspec": {
   "display_name": ".venv",
   "language": "python",
   "name": "python3"
  },
  "language_info": {
   "codemirror_mode": {
    "name": "ipython",
    "version": 3
   },
   "file_extension": ".py",
   "mimetype": "text/x-python",
   "name": "python",
   "nbconvert_exporter": "python",
   "pygments_lexer": "ipython3",
   "version": "3.10.12"
  }
 },
 "nbformat": 4,
 "nbformat_minor": 5
}
