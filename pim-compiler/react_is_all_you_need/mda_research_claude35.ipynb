{
  "cells": [
    {
      "cell_type": "markdown",
      "id": "title",
      "source": "# PSM生成 - 使用Claude 3.5 Sonnet"
    },
    {
      "cell_type": "code",
      "id": "init",
      "source": "import os\nimport sys\nfrom pathlib import Path\nimport time\n\n# 添加项目根目录到Python路径\nsys.path.insert(0, str(Path.cwd()))\n\nfrom core.react_agent_minimal import ReactAgentMinimal\n\nwork_dir = \"/home/guci/aiProjects/mda/pim-compiler/react_is_all_you_need/output/blog_claude35\"",
      "outputs": []
    },
    {
      "cell_type": "code",
      "id": "psm_gen",
      "source": "pim_file=\"/home/guci/aiProjects/mda/pim-compiler/examples/blog.md\"\n\n# 创建PSM生成Agent（使用Claude 3.5 Sonnet - 最新版本）\npsm_generation_agent = ReactAgentMinimal(\n    work_dir=work_dir,\n    name=\"psm_generation_agent\",\n    description=\"PSM生成专家 - 根据PIM生成平台特定模型\",\n    model=\"anthropic/claude-3.5-sonnet\",  # 使用Claude 3.5 Sonnet（最新版本）\n    base_url=\"https://openrouter.ai/api/v1\",\n    api_key=os.getenv(\"OPENROUTER_API_KEY\"),\n    knowledge_files=[\n        \"knowledge/mda/pim_to_psm_knowledge.md\",  # PSM结构定义\n        \"knowledge/large_file_handling.md\"        # 通用文件处理策略\n    ]\n)\n\n# 执行PSM生成任务\nimport time\nstart_time = time.time()\n\nx = psm_generation_agent.execute(task=f\"\"\"\n# PIM文件                                \n{pim_file}\n\n# 任务\n根据上面的PIM生成完整的PSM文档，文件名是blog_psm.md\n\n# 成功判定条件\n1. blog_psm.md文件存在\n2. 包含Domain Models章节\n3. 包含Service Layer章节  \n4. 包含REST API Design章节\n5. 包含Application Configuration章节\n6. 包含Testing Specifications章节\n\"\"\")\n\n# 报告执行时间\nelapsed = time.time() - start_time\nprint(f\"\\n⏱️ PSM生成耗时: {elapsed:.2f}秒\")\n\nif x is None:\n    print(\"返回结果为空\")\nelse:\n    print(f\"返回结果：{x[:500]}...\")  # 只显示前500个字符",
      "outputs": []
    }
  ],
  "metadata": {
    "kernelspec": {
      "display_name": "Python 3",
      "language": "python",
      "name": "python3"
    },
    "language_info": {
      "name": "python",
      "version": "3.9.0"
    }
  },
  "nbformat": 4,
  "nbformat_minor": 5
}