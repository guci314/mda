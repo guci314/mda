{
 "cells": [
  {
   "cell_type": "markdown",
   "metadata": {},
   "source": [
    "# MDA工作流 with 自适应任务分解\n",
    "\n",
    "这个notebook展示了如何应用自适应任务分解知识，让MDA工作流能够：\n",
    "1. 定义每个步骤的后置断言\n",
    "2. 失败时自动分解任务\n",
    "3. 使用TODO管理跟踪进度"
   ]
  },
  {
   "cell_type": "markdown",
   "metadata": {},
   "source": [
    "## 1. 初始化"
   ]
  },
  {
   "cell_type": "code",
   "execution_count": null,
   "metadata": {},
   "outputs": [],
   "source": [
    "import os\n",
    "import sys\n",
    "from pathlib import Path\n",
    "import json\n",
    "import shutil\n",
    "\n",
    "# 添加项目路径\n",
    "sys.path.insert(0, str(Path.cwd()))\n",
    "\n",
    "from core.react_agent import GenericReactAgent, ReactAgentConfig, MemoryLevel\n",
    "from core.langchain_agent_tool import create_langchain_tool\n",
    "\n",
    "# 设置工作目录\n",
    "work_dir = \"/home/guci/aiProjects/mda/pim-compiler/react_is_all_you_need/output/adaptive_mda\"\n",
    "\n",
    "# 清空工作目录\n",
    "if os.path.exists(work_dir):\n",
    "    shutil.rmtree(work_dir)\n",
    "os.makedirs(work_dir)\n",
    "\n",
    "print(f\"工作目录: {work_dir}\")"
   ]
  },
  {
   "cell_type": "markdown",
   "metadata": {},
   "source": [
    "## 2. 配置LLM\n",
    "\n",
    "可以选择不同的LLM来测试自适应分解"
   ]
  },
  {
   "cell_type": "code",
   "execution_count": null,
   "metadata": {},
   "outputs": [],
   "source": [
    "# 选择LLM配置\n",
    "# Gemini (能力强，通常不需要分解)\n",
    "gemini_config = {\n",
    "    \"llm_model\": \"gemini-2.5-flash\",\n",
    "    \"llm_base_url\": \"https://generativelanguage.googleapis.com/v1beta/openai/\",\n",
    "    \"llm_api_key_env\": \"GEMINI_API_KEY\",\n",
    "    \"llm_temperature\": 0\n",
    "}\n",
    "\n",
    "# Kimi (能力中等，可能需要分解)\n",
    "kimi_config = {\n",
    "    \"llm_model\": \"kimi-k2-turbo-preview\",\n",
    "    \"llm_base_url\": \"https://api.moonshot.cn/v1\",\n",
    "    \"llm_api_key_env\": \"MOONSHOT_API_KEY\",\n",
    "    \"llm_temperature\": 0\n",
    "}\n",
    "\n",
    "# 选择要使用的配置\n",
    "llm_config = kimi_config  # 使用Kimi来演示自适应分解\n",
    "print(f\"使用LLM: {llm_config['llm_model']}\")"
   ]
  },
  {
   "cell_type": "markdown",
   "metadata": {},
   "source": [
    "## 3. 创建MDA任务TODO\n",
    "\n",
    "定义每个步骤的后置断言"
   ]
  },
  {
   "cell_type": "code",
   "execution_count": null,
   "metadata": {},
   "outputs": [],
   "source": [
    "# 创建MDA工作流TODO文件\n",
    "mda_todo = \"\"\"\n",
    "# MDA工作流TODO\n",
    "\n",
    "## 原始任务\n",
    "从PIM生成完整的FastAPI应用并确保测试通过\n",
    "\n",
    "## 步骤列表\n",
    "\n",
    "### 步骤1：生成PSM\n",
    "- [ ] 任务：根据PIM文件生成PSM\n",
    "- 后置断言：blog_psm.md文件存在且包含5个核心章节\n",
    "- 状态：待执行\n",
    "\n",
    "### 步骤2：生成代码\n",
    "- [ ] 任务：根据PSM生成FastAPI代码\n",
    "- 后置断言：app/main.py存在，所有路由文件生成\n",
    "- 状态：待执行\n",
    "\n",
    "### 步骤3：生成测试\n",
    "- [ ] 任务：生成单元测试\n",
    "- 后置断言：tests/目录存在，至少3个测试文件\n",
    "- 状态：待执行\n",
    "\n",
    "### 步骤4：验证测试\n",
    "- [ ] 任务：运行pytest验证\n",
    "- 后置断言：pytest返回\"0 failed\"\n",
    "- 状态：待执行\n",
    "\n",
    "### 步骤5：修复失败（如需要）\n",
    "- [ ] 任务：修复测试失败\n",
    "- 后置断言：所有测试通过\n",
    "- 状态：待执行\n",
    "\n",
    "### 步骤6：运行应用\n",
    "- [ ] 任务：启动FastAPI应用\n",
    "- 后置断言：8000端口响应\n",
    "- 状态：待执行\n",
    "\"\"\"\n",
    "\n",
    "# 保存TODO文件\n",
    "todo_file = os.path.join(work_dir, \"mda_workflow_todo.md\")\n",
    "with open(todo_file, 'w', encoding='utf-8') as f:\n",
    "    f.write(mda_todo)\n",
    "\n",
    "print(f\"TODO文件已创建: {todo_file}\")"
   ]
  },
  {
   "cell_type": "markdown",
   "metadata": {},
   "source": [
    "## 4. 创建带后置断言验证的Agent"
   ]
  },
  {
   "cell_type": "code",
   "execution_count": null,
   "metadata": {},
   "outputs": [],
   "source": "def create_agent_with_postcondition(name, knowledge_files, interface, postcondition):\n    \"\"\"创建带后置断言的Agent\"\"\"\n    config = ReactAgentConfig(\n        work_dir=work_dir,\n        memory_level=MemoryLevel.SMART,\n        knowledge_files=knowledge_files,\n        enable_project_exploration=False,\n        **llm_config\n    )\n    \n    agent = GenericReactAgent(config, name=name)\n    agent.interface = interface\n    # 将后置断言存储在单独的字典中，而不是作为属性\n    # agent.postcondition = postcondition  # 这行会导致错误\n    \n    # 返回agent和postcondition作为元组\n    return agent, postcondition\n\n# PSM生成Agent\npsm_agent, psm_postcondition = create_agent_with_postcondition(\n    name=\"psm_generation_agent\",\n    knowledge_files=[\"knowledge/mda/pim_to_psm_knowledge.md\"],\n    interface=\"\"\"PSM生成专家 - 根据PIM生成平台特定模型\n    \n# 重要：参考adaptive_task_decomposition.md\n如果输出被截断或不完整，需要分解任务\n\"\"\",\n    postcondition=\"blog_psm.md存在且包含Domain Models, Service Layer, REST API Design, Application Configuration, Testing Specifications章节\"\n)\n\n# 代码生成Agent\ngeneration_agent, generation_postcondition = create_agent_with_postcondition(\n    name=\"generation_agent\",\n    knowledge_files=[\"knowledge/mda/generation_knowledge.md\"],\n    interface=\"\"\"代码生成专家 - 生成FastAPI代码\n    \n# 重要：如果代码生成不完整\n1. 创建TODO列表分解任务\n2. 逐个生成每个模块\n3. 更新TODO状态\n\"\"\",\n    postcondition=\"app/main.py存在，app/models.py存在，app/schemas.py存在，tests/目录存在\"\n)\n\n# 存储后置断言的字典\nagent_postconditions = {\n    \"psm_generation_agent\": psm_postcondition,\n    \"generation_agent\": generation_postcondition\n}\n\nprint(\"Agents创建完成，每个都有后置断言\")"
  },
  {
   "cell_type": "markdown",
   "metadata": {},
   "source": [
    "## 5. 执行任务并验证后置断言"
   ]
  },
  {
   "cell_type": "code",
   "execution_count": null,
   "metadata": {},
   "outputs": [],
   "source": "def execute_with_postcondition_check(agent, postcondition, task, step_name):\n    \"\"\"执行任务并验证后置断言\"\"\"\n    print(f\"\\n{'='*60}\")\n    print(f\"执行: {step_name}\")\n    print(f\"后置断言: {postcondition}\")\n    print(f\"{'='*60}\")\n    \n    # 更新TODO状态为执行中\n    update_todo_status(step_name, \"执行中\")\n    \n    # 执行任务\n    result = agent.execute_task(task)\n    \n    # 验证后置断言\n    postcondition_met = verify_postcondition(postcondition)\n    \n    if postcondition_met:\n        print(f\"✅ 后置断言满足\")\n        update_todo_status(step_name, \"完成\")\n        return True, result\n    else:\n        print(f\"❌ 后置断言失败，需要分解任务\")\n        update_todo_status(step_name, \"失败-需分解\")\n        return False, result\n\ndef verify_postcondition(condition):\n    \"\"\"验证后置断言（简化版）\"\"\"\n    # 这里可以根据条件类型进行实际验证\n    # 现在简化为检查文件存在\n    if \"存在\" in condition:\n        # 提取文件名\n        import re\n        files = re.findall(r'([\\w/]+\\.\\w+|[\\w/]+/)', condition)\n        for file in files:\n            file_path = os.path.join(work_dir, file)\n            if not os.path.exists(file_path):\n                return False\n    return True\n\ndef update_todo_status(step_name, status):\n    \"\"\"更新TODO文件状态\"\"\"\n    # 读取TODO文件\n    with open(todo_file, 'r', encoding='utf-8') as f:\n        content = f.read()\n    \n    # 更新状态\n    lines = content.split('\\n')\n    for i, line in enumerate(lines):\n        if step_name in line:\n            # 找到状态行并更新\n            for j in range(i, min(i+5, len(lines))):\n                if '状态：' in lines[j]:\n                    lines[j] = f\"- 状态：{status}\"\n                    break\n    \n    # 保存更新\n    with open(todo_file, 'w', encoding='utf-8') as f:\n        f.write('\\n'.join(lines))\n    \n    print(f\"📝 TODO更新: {step_name} -> {status}\")"
  },
  {
   "cell_type": "markdown",
   "metadata": {},
   "source": [
    "## 6. 执行步骤1：生成PSM"
   ]
  },
  {
   "cell_type": "code",
   "execution_count": null,
   "metadata": {},
   "outputs": [],
   "source": "pim_file = \"/home/guci/aiProjects/mda/pim-compiler/examples/blog.md\"\n\npsm_task = f\"\"\"\n# PIM文件\n{pim_file}\n\n# 任务\n根据上面的PIM生成PSM，文件名是blog_psm.md\n\n# 后置断言\n- PSM文件包含5个核心章节\n- 每个实体都有定义\n\n# 如果失败\n参考knowledge/adaptive_task_decomposition.md进行任务分解\n\"\"\"\n\nsuccess, result = execute_with_postcondition_check(\n    psm_agent,\n    psm_postcondition,  # 传递后置断言\n    psm_task,\n    \"步骤1：生成PSM\"\n)\n\nif not success:\n    print(\"\\n需要分解PSM生成任务...\")\n    # 这里可以实现分解逻辑"
  },
  {
   "cell_type": "markdown",
   "metadata": {},
   "source": [
    "## 7. 任务分解示例\n",
    "\n",
    "当任务失败时，自动分解为子任务"
   ]
  },
  {
   "cell_type": "code",
   "execution_count": null,
   "metadata": {},
   "outputs": [],
   "source": [
    "def decompose_failed_task(original_task, failure_reason):\n",
    "    \"\"\"分解失败的任务\"\"\"\n",
    "    decomposition_task = f\"\"\"\n",
    "# 失败的任务\n",
    "{original_task}\n",
    "\n",
    "# 失败原因\n",
    "{failure_reason}\n",
    "\n",
    "# 请根据adaptive_task_decomposition.md的指导：\n",
    "1. 分析失败类型（输出截断/部分失败/质量问题）\n",
    "2. 生成子任务列表，每个子任务包含：\n",
    "   - 任务描述\n",
    "   - 后置断言\n",
    "3. 使用TodoWrite工具创建子任务TODO\n",
    "\"\"\"\n",
    "    \n",
    "    # 创建分解Agent\n",
    "    decomposition_agent = GenericReactAgent(\n",
    "        ReactAgentConfig(\n",
    "            work_dir=work_dir,\n",
    "            memory_level=MemoryLevel.SMART,\n",
    "            knowledge_files=[\"knowledge/adaptive_task_decomposition.md\"],\n",
    "            **llm_config\n",
    "        ),\n",
    "        name=\"decomposition_agent\"\n",
    "    )\n",
    "    \n",
    "    # 执行分解\n",
    "    decomposition_result = decomposition_agent.execute_task(decomposition_task)\n",
    "    \n",
    "    return decomposition_result\n",
    "\n",
    "# 示例：如果代码生成失败\n",
    "if False:  # 将此改为True来测试分解\n",
    "    print(\"\\n代码生成失败，开始分解任务...\")\n",
    "    \n",
    "    subtasks = decompose_failed_task(\n",
    "        \"生成完整的FastAPI应用\",\n",
    "        \"输出被截断，只生成了部分代码\"\n",
    "    )\n",
    "    \n",
    "    print(f\"\\n分解结果:\\n{subtasks}\")"
   ]
  },
  {
   "cell_type": "markdown",
   "metadata": {},
   "source": [
    "## 8. 完整的MDA工作流（带自适应分解）"
   ]
  },
  {
   "cell_type": "code",
   "execution_count": null,
   "metadata": {},
   "outputs": [],
   "source": "def run_mda_workflow_with_decomposition():\n    \"\"\"运行带自适应分解的MDA工作流\"\"\"\n    \n    # 定义工作流步骤\n    workflow_steps = [\n        {\n            \"name\": \"生成PSM\",\n            \"agent\": psm_agent,\n            \"postcondition\": psm_postcondition,\n            \"task\": psm_task\n        },\n        {\n            \"name\": \"生成代码\",\n            \"agent\": generation_agent,\n            \"postcondition\": generation_postcondition,\n            \"task\": \"根据blog_psm.md生成FastAPI代码\"\n        },\n        # 更多步骤...\n    ]\n    \n    # 执行工作流\n    for step in workflow_steps:\n        print(f\"\\n执行: {step['name']}\")\n        \n        # 尝试执行\n        max_attempts = 3\n        for attempt in range(max_attempts):\n            success, result = execute_with_postcondition_check(\n                step['agent'],\n                step['postcondition'],  # 传递后置断言\n                step['task'],\n                step['name']\n            )\n            \n            if success:\n                break\n            \n            if attempt < max_attempts - 1:\n                print(f\"\\n尝试 {attempt + 1} 失败，分解任务...\")\n                decompose_failed_task(step['task'], \"后置断言未满足\")\n            else:\n                print(f\"\\n任务 {step['name']} 失败，需要人工介入\")\n                return False\n    \n    print(\"\\n✅ MDA工作流完成！\")\n    return True\n\n# 运行工作流\n# success = run_mda_workflow_with_decomposition()"
  },
  {
   "cell_type": "markdown",
   "metadata": {},
   "source": [
    "## 9. 查看TODO进度"
   ]
  },
  {
   "cell_type": "code",
   "execution_count": null,
   "metadata": {},
   "outputs": [],
   "source": [
    "# 显示当前TODO状态\n",
    "with open(todo_file, 'r', encoding='utf-8') as f:\n",
    "    print(f.read())"
   ]
  },
  {
   "cell_type": "markdown",
   "metadata": {},
   "source": [
    "## 总结\n",
    "\n",
    "这个notebook展示了如何将自适应任务分解知识应用到MDA工作流：\n",
    "\n",
    "### 关键改进\n",
    "\n",
    "1. **后置断言**：每个步骤都有明确的成功条件\n",
    "2. **TODO管理**：任务进度显式可见\n",
    "3. **失败处理**：自动分解失败的任务\n",
    "4. **知识驱动**：通过adaptive_task_decomposition.md指导分解\n",
    "\n",
    "### 优势\n",
    "\n",
    "- **适应不同模型**：Kimi失败时自动分解，Gemini可能一次成功\n",
    "- **可恢复性**：中断后可以从TODO继续\n",
    "- **可观测性**：进度透明，易于调试\n",
    "- **质量保证**：后置断言确保每步正确"
   ]
  }
 ],
 "metadata": {
  "kernelspec": {
   "display_name": "Python 3",
   "language": "python",
   "name": "python3"
  },
  "language_info": {
   "codemirror_mode": {
    "name": "ipython",
    "version": 3
   },
   "file_extension": ".py",
   "mimetype": "text/x-python",
   "name": "python",
   "nbconvert_exporter": "python",
   "pygments_lexer": "ipython3",
   "version": "3.10.0"
  }
 },
 "nbformat": 4,
 "nbformat_minor": 4
}