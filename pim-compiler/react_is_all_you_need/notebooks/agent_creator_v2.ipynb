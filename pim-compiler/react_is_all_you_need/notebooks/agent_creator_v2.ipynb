{
 "cells": [
  {
   "cell_type": "markdown",
   "metadata": {},
   "source": [
    "# Agent Creator v2: 正确的Agent创建和管理\n",
    "\n",
    "这个版本展示如何正确创建Agent并将其添加到父Agent的functions列表中。"
   ]
  },
  {
   "cell_type": "code",
   "execution_count": 1,
   "metadata": {},
   "outputs": [
    {
     "name": "stdout",
     "output_type": "stream",
     "text": [
      "✅ 已加载.env文件: /Users/guci/aiProjects/mda/pim-compiler/.env\n",
      "✅ 环境准备完成 - 已加载最新版本\n",
      "📌 提示：如果Agent没有自我认知，请重启kernel\n"
     ]
    }
   ],
   "source": [
    "# 重要：重新启动kernel以加载最新代码！\n",
    "# Kernel -> Restart Kernel\n",
    "\n",
    "import sys\n",
    "import os\n",
    "sys.path.insert(0, '/Users/guci/aiProjects/mda/pim-compiler/react_is_all_you_need')\n",
    "\n",
    "# 手动加载.env文件\n",
    "from pathlib import Path\n",
    "env_path = Path('/Users/guci/aiProjects/mda/pim-compiler/.env')\n",
    "if env_path.exists():\n",
    "    with open(env_path, encoding='utf-8') as f:\n",
    "        for line in f:\n",
    "            line = line.strip()\n",
    "            if line and not line.startswith('#') and '=' in line:\n",
    "                key, value = line.split('=', 1)\n",
    "                key = key.strip()\n",
    "                value = value.strip()\n",
    "                # 只设置尚未存在的环境变量\n",
    "                if key not in os.environ:\n",
    "                    os.environ[key] = value\n",
    "    print(f'✅ 已加载.env文件: {env_path}')\n",
    "else:\n",
    "    print(f'⚠️ 未找到.env文件: {env_path}')\n",
    "\n",
    "# 强制重新加载模块\n",
    "if 'core.react_agent_minimal' in sys.modules:\n",
    "    del sys.modules['core.react_agent_minimal']\n",
    "if 'core.tool_base' in sys.modules:\n",
    "    del sys.modules['core.tool_base']\n",
    "\n",
    "# 强制重新加载模块（清除缓存）\n",
    "import importlib\n",
    "if 'core.react_agent_minimal' in sys.modules:\n",
    "    importlib.reload(sys.modules['core.react_agent_minimal'])\n",
    "if 'core.tools.create_agent_tool' in sys.modules:\n",
    "    importlib.reload(sys.modules['core.tools.create_agent_tool'])\n",
    "\n",
    "from core.react_agent_minimal import ReactAgentMinimal\n",
    "from core.tools.create_agent_tool import CreateAgentTool\n",
    "from pathlib import Path\n",
    "import json\n",
    "from datetime import datetime\n",
    "from IPython.display import display\n",
    "\n",
    "print(\"✅ 环境准备完成 - 已加载最新版本\")\n",
    "print(\"📌 提示：如果Agent没有自我认知，请重启kernel\")\n"
   ]
  },
  {
   "cell_type": "code",
   "execution_count": null,
   "metadata": {},
   "outputs": [],
   "source": [
    "print('hello')"
   ]
  },
  {
   "cell_type": "markdown",
   "metadata": {},
   "source": [
    "# 天衍智的工作"
   ]
  },
  {
   "cell_type": "code",
   "execution_count": null,
   "metadata": {},
   "outputs": [],
   "source": [
    "tyz_worker = ReactAgentMinimal(\n",
    "    name=\"tyz_worker\",\n",
    "    description=\"从事天衍智的工作\",\n",
    "    work_dir=\"/home/guci/robot_projects/rag_sample/\",\n",
    "    model= \"x-ai/grok-code-fast-1\", #\"anthropic/claude-sonnet-4\",# \"google/gemini-2.5-pro\" # \"deepseek-chat\", #\"x-ai/grok-code-fast-1\",  # 使用Grok模型\n",
    "    # base_url=\"https://openrouter.ai/api/v1\",\n",
    "    # api_key=os.getenv(\"OPENROUTER_API_KEY\"),\n",
    "    # /Users/guci/aiProjects/mda/pim-compiler/react_is_all_you_need/knowledge/minimal/validation/validation_simplicity.md\n",
    "    # /Users/guci/aiProjects/mda/pim-compiler/react_is_all_you_need/knowledge/minimal/validation/validation_procedural_justice.md\n",
    "    knowledge_files=[\n",
    "        \"/Users/guci/aiProjects/mda/pim-compiler/react_is_all_you_need/knowledge/minimal/validation/validation_simplicity.md\"\n",
    "    ],\n",
    "    max_rounds=200\n",
    ")\n"
   ]
  },
  {
   "cell_type": "code",
   "execution_count": null,
   "metadata": {},
   "outputs": [],
   "source": [
    "task=\"\"\"\n",
    "把description修改成“自知者明 自胜者强112”\n",
    "\"\"\"\n",
    "x=tyz_worker.execute(task=task)\n",
    "print(x)"
   ]
  },
  {
   "cell_type": "markdown",
   "metadata": {},
   "source": [
    "# 1. 创建Agent Creator（带CreateAgentTool）"
   ]
  },
  {
   "cell_type": "code",
   "execution_count": null,
   "metadata": {},
   "outputs": [],
   "source": [
    "# 创建Agent Creator\n",
    "# 注意：现在不需要手动添加CreateAgentTool，每个Agent默认就有这个能力\n",
    "agent_creator = ReactAgentMinimal(\n",
    "    name=\"agent_creator_v2\",\n",
    "    description=\"增强版Agent创建器，能正确管理子Agent\",\n",
    "    work_dir=\"/Users/guci/aiProjects/mda/pim-compiler/react_is_all_you_need\",\n",
    "    model= \"x-ai/grok-code-fast-1\", #\"anthropic/claude-sonnet-4\",# \"google/gemini-2.5-pro\" # \"deepseek-chat\", #\"x-ai/grok-code-fast-1\",  # 使用Grok模型\n",
    "    # base_url=\"https://openrouter.ai/api/v1\",\n",
    "    # api_key=os.getenv(\"OPENROUTER_API_KEY\"),\n",
    "    # /Users/guci/aiProjects/mda/pim-compiler/react_is_all_you_need/knowledge/minimal/validation/validation_simplicity.md\n",
    "    # /Users/guci/aiProjects/mda/pim-compiler/react_is_all_you_need/knowledge/minimal/validation/validation_procedural_justice.md\n",
    "    knowledge_files=[\n",
    "        \"/Users/guci/aiProjects/mda/pim-compiler/react_is_all_you_need/knowledge/minimal/validation/validation_simplicity.md\",\n",
    "        \n",
    "    ],\n",
    "    max_rounds=200\n",
    ")\n",
    "\n",
    "# \"/Users/guci/aiProjects/mda/pim-compiler/react_is_all_you_need/knowledge/aia_architecture_knowledge.md\"\n",
    "\n",
    "agent_creator._auto_save_state()\n",
    "\n",
    "print(\"🤖 Agent Creator v2 已初始化（分形同构版）\")\n",
    "print(f\"   当前functions数量: {len(agent_creator.function_instances)}\")\n",
    "print(\"   自动包含的工具:\")\n",
    "for func in agent_creator.function_instances:\n",
    "    # 检查是否有name属性\n",
    "    if hasattr(func, 'name') and func.name == 'create_agent':\n",
    "        print(f\"     ✅ {func.name}: 创建子Agent的能力（分形同构）\")\n",
    "print(f\"   使用模型: {agent_creator.model}\")\n",
    "print(\"   默认创建的Agent也会自动有CreateAgentTool能力\")\n",
    "\n"
   ]
  },
  {
   "cell_type": "code",
   "execution_count": null,
   "metadata": {},
   "outputs": [],
   "source": [
    "task=\"\"\"\n",
    "查看你的源代码 总结\n",
    "\"\"\"\n",
    "x=agent_creator.execute(task=task)\n",
    "print(x)"
   ]
  },
  {
   "cell_type": "code",
   "execution_count": null,
   "metadata": {},
   "outputs": [],
   "source": [
    "task=\"\"\"\n",
    "@learning\n",
    "\"\"\"\n",
    "x=agent_creator.execute(task=task)\n",
    "print(x)"
   ]
  },
  {
   "cell_type": "code",
   "execution_count": null,
   "metadata": {},
   "outputs": [],
   "source": [
    "\n",
    "agent_coder_expert = ReactAgentMinimal(\n",
    "    name=\"coder_expert\",\n",
    "    description=\"代码专家，删除分析，debug代码\",\n",
    "    work_dir=\"/tmp/agent_creator_v2\",\n",
    "    model= \"anthropic/claude-sonnet-4\", #\"anthropic/claude-sonnet-4\",# \"google/gemini-2.5-pro\" # \"deepseek-chat\", #\"x-ai/grok-code-fast-1\",  # 使用Grok模型\n",
    "    # base_url=\"https://openrouter.ai/api/v1\",\n",
    "    # api_key=os.getenv(\"OPENROUTER_API_KEY\"),\n",
    "    # /Users/guci/aiProjects/mda/pim-compiler/react_is_all_you_need/knowledge/minimal/validation/validation_simplicity.md\n",
    "    # /Users/guci/aiProjects/mda/pim-compiler/react_is_all_you_need/knowledge/minimal/validation/validation_procedural_justice.md\n",
    "    knowledge_files=[\n",
    "        \"/Users/guci/aiProjects/mda/pim-compiler/react_is_all_you_need/knowledge/minimal/validation/validation_simplicity.md\"\n",
    "    ],\n",
    "    max_rounds=200\n",
    ")\n",
    "\n",
    "# 创建Agent Creator\n",
    "# 注意：现在不需要手动添加CreateAgentTool，每个Agent默认就有这个能力\n",
    "agent_creator = ReactAgentMinimal(\n",
    "    name=\"agent_creator_v2\",\n",
    "    description=\"增强版Agent创建器，能正确管理子Agent\",\n",
    "    work_dir=\"/tmp/agent_creator_v2\",\n",
    "    model= \"x-ai/grok-code-fast-1\", #\"anthropic/claude-sonnet-4\",# \"google/gemini-2.5-pro\" # \"deepseek-chat\", #\"x-ai/grok-code-fast-1\",  # 使用Grok模型\n",
    "    # base_url=\"https://openrouter.ai/api/v1\",\n",
    "    # api_key=os.getenv(\"OPENROUTER_API_KEY\"),\n",
    "    # /Users/guci/aiProjects/mda/pim-compiler/react_is_all_you_need/knowledge/minimal/validation/validation_simplicity.md\n",
    "    # /Users/guci/aiProjects/mda/pim-compiler/react_is_all_you_need/knowledge/minimal/validation/validation_procedural_justice.md\n",
    "    # knowledge_files=[\n",
    "    #     \"/Users/guci/aiProjects/mda/pim-compiler/react_is_all_you_need/knowledge/minimal/validation/validation_simplicity.md\",\n",
    "    #     \"/Users/guci/aiProjects/mda/pim-compiler/react_is_all_you_need/knowledge/formalized_routing.md\"\n",
    "    # ],\n",
    "    max_rounds=500\n",
    ")\n",
    "\n",
    "agent_creator.add_function(agent_coder_expert)\n",
    "\n",
    "\n",
    "agent_creator._auto_save_state()\n",
    "\n",
    "print(\"🤖 Agent Creator v2 已初始化（分形同构版）\")\n",
    "print(f\"   当前functions数量: {len(agent_creator.function_instances)}\")\n",
    "print(\"   自动包含的工具:\")\n",
    "for func in agent_creator.function_instances:\n",
    "    # 检查是否有name属性\n",
    "    if hasattr(func, 'name') and func.name == 'create_agent':\n",
    "        print(f\"     ✅ {func.name}: 创建子Agent的能力（分形同构）\")\n",
    "print(f\"   使用模型: {agent_creator.model}\")\n",
    "print(\"   默认创建的Agent也会自动有CreateAgentTool能力\")\n",
    "\n"
   ]
  },
  {
   "cell_type": "code",
   "execution_count": null,
   "metadata": {},
   "outputs": [],
   "source": [
    "x=agent_creator.execute(task=\"@learning\")\n",
    "print(x) "
   ]
  },
  {
   "cell_type": "code",
   "execution_count": null,
   "metadata": {},
   "outputs": [],
   "source": [
    "x=agent_creator.execute(task=\"我想给agent添加异步执行功能，你有什么建议吗？\")\n",
    "print(x) "
   ]
  },
  {
   "cell_type": "code",
   "execution_count": null,
   "metadata": {},
   "outputs": [],
   "source": [
    "x=agent_creator.execute(task=\"@learning\")\n",
    "print(x) "
   ]
  },
  {
   "cell_type": "code",
   "execution_count": null,
   "metadata": {},
   "outputs": [],
   "source": [
    "creator=ReactAgentMinimal.load(name='agent_creator_v2')"
   ]
  },
  {
   "cell_type": "code",
   "execution_count": null,
   "metadata": {},
   "outputs": [],
   "source": [
    "x=creator.execute(task=\"/compact\")\n",
    "print(x)"
   ]
  },
  {
   "cell_type": "code",
   "execution_count": null,
   "metadata": {},
   "outputs": [],
   "source": [
    "x=creator.execute(task=\"分析你的源代码，执行/compact后会触发保存状态吗？\")\n",
    "print(x)"
   ]
  },
  {
   "cell_type": "code",
   "execution_count": null,
   "metadata": {},
   "outputs": [],
   "source": [
    "# 使用Agent Creator创建图书管理Agent\n",
    "# Agent Creator会自己创建所需的知识文件，无需预先准备\n",
    "create_task = \"\"\"\n",
    "创建一个图书管理Agent，要求：\n",
    "能够添加、删除、查询、更新图书信息\n",
    "\n",
    "\"\"\"\n",
    "# 图书管理Agent应该使用知识驱动的方法论\n",
    "result = agent_creator.execute(task=create_task)\n",
    "display(result)\n",
    "\n",
    "# 检查function_instances列表\n",
    "print(f\"\\n当前functions数量: {len(agent_creator.function_instances)}\")"
   ]
  },
  {
   "cell_type": "code",
   "execution_count": null,
   "metadata": {},
   "outputs": [],
   "source": [
    "x=agent_creator.execute(task=\"\"\"分析你的源代码研究 为什么会出现很多 任务不存在 错误\"\"\")\n",
    "print(x)"
   ]
  },
  {
   "cell_type": "code",
   "execution_count": null,
   "metadata": {},
   "outputs": [],
   "source": [
    "import typing\n",
    "book_manager_agent:ReactAgentMinimal=typing.cast(ReactAgentMinimal, agent_creator.function_instances[-1])\n",
    "x=book_manager_agent.execute(task=\"\"\"\n",
    "添加一本图书三国演义，数据你随便构造\n",
    "\"\"\")\n",
    "print(x)"
   ]
  },
  {
   "cell_type": "code",
   "execution_count": null,
   "metadata": {},
   "outputs": [],
   "source": [
    "x=book_manager_agent.execute(task=\"\"\"\n",
    "你应该用external tool完成工作\n",
    "\"\"\")\n",
    "print(x)"
   ]
  },
  {
   "cell_type": "code",
   "execution_count": null,
   "metadata": {},
   "outputs": [],
   "source": [
    "x=book_manager_agent.execute(task=\"\"\"\n",
    "添加一本图书红楼梦，数据你随便写\n",
    "\"\"\")\n",
    "print(x)"
   ]
  },
  {
   "cell_type": "code",
   "execution_count": null,
   "metadata": {},
   "outputs": [],
   "source": [
    "x=book_manager_agent.execute(task=\"\"\"\n",
    "@learning\n",
    "\"\"\")\n",
    "print(x)"
   ]
  },
  {
   "cell_type": "markdown",
   "metadata": {},
   "source": [
    "# 2. 使用create_agent工具创建订单Agent"
   ]
  },
  {
   "cell_type": "code",
   "execution_count": null,
   "metadata": {},
   "outputs": [],
   "source": [
    "# 使用Agent Creator创建订单Agent\n",
    "# Agent Creator会根据需求自动生成知识文件\n",
    "create_task = \"\"\"\n",
    "创建一个电商订单处理Agent，llm使用x-ai/grok-code-fast-1 agent名字是order_agent 需求如下：\n",
    "\n",
    "1. 管理客户会员等级（VIP、普通会员、非会员）\n",
    "2. 处理订单创建和价格计算\n",
    "3. VIP客户8折，普通会员9折，非会员原价\n",
    "4. 检查库存并生成订单号\n",
    "\n",
    "\n",
    "\"\"\"\n",
    "\n",
    "result = agent_creator.execute(task=create_task)\n",
    "display(result)\n",
    "\n",
    "# 检查function_instances列表\n",
    "print(f\"\\n当前functions数量: {len(agent_creator.function_instances)}\")"
   ]
  },
  {
   "cell_type": "code",
   "execution_count": null,
   "metadata": {},
   "outputs": [],
   "source": [
    "task = \"\"\"\n",
    "order_agent的knowledge.md的内容是什么？\n",
    "\"\"\"\n",
    "\n",
    "result = agent_creator.execute(task=task)\n",
    "display(result)"
   ]
  },
  {
   "cell_type": "markdown",
   "metadata": {},
   "source": [
    "# 加载order agent"
   ]
  },
  {
   "cell_type": "code",
   "execution_count": null,
   "metadata": {},
   "outputs": [],
   "source": [
    "import typing\n",
    "order_agent=typing.cast(ReactAgentMinimal ,agent_creator.function_instances[-1])\n",
    "x=order_agent.execute(task=\"\"\"创建一个订单，数据你随便写\"\"\")\n",
    "print(x)"
   ]
  },
  {
   "cell_type": "code",
   "execution_count": null,
   "metadata": {},
   "outputs": [],
   "source": [
    "order_agent=ReactAgentMinimal.load(name='order_agent')\n",
    "os.chdir('/home/guci/robot_projects/orderSystem')"
   ]
  },
  {
   "cell_type": "code",
   "execution_count": null,
   "metadata": {},
   "outputs": [],
   "source": [
    "order_agent.function_instances"
   ]
  },
  {
   "cell_type": "code",
   "execution_count": null,
   "metadata": {},
   "outputs": [],
   "source": [
    "x=order_agent.execute(task=\"\"\"\n",
    "\n",
    "架构文档前面的部分仍然丢失，请分析原因\n",
    "\n",
    "\"\"\")\n",
    " \n",
    "# 启动完整的Spring Cloud环境  验证开发环境正确\n",
    "# 启动spring cloud环境\n",
    "# 你有哪些子agent？\n",
    "#你的work_dir是什么？如何通过你的符号主义接口添加一个客户  刘德华？\n",
    "print(x)"
   ]
  },
  {
   "cell_type": "code",
   "execution_count": null,
   "metadata": {},
   "outputs": [],
   "source": [
    "x=order_agent.execute(task=\"\"\"\n",
    "ui首页 \n",
    "\n",
    "错误\n",
    "\n",
    "加载数据失败，请检查后端服务是否正常运行\n",
    "\"\"\")\n",
    "# x=order_agent.execute(task=\"\"\"\n",
    "# 切换llm到x-ai/grok-code-fast-1                      \n",
    "# \"\"\")\n",
    "# 订单微服务都支持open api  schema吗？ \n",
    "# 你有哪些子agent？\n",
    "#你的work_dir是什么？如何通过你的符号主义接口添加一个客户  刘德华？\n",
    "print(x)"
   ]
  },
  {
   "cell_type": "code",
   "execution_count": null,
   "metadata": {},
   "outputs": [],
   "source": [
    "x=order_agent.execute(task=\"/compact\")\n",
    "print(x)"
   ]
  },
  {
   "cell_type": "code",
   "execution_count": null,
   "metadata": {},
   "outputs": [],
   "source": [
    "order_agent.function_instances"
   ]
  },
  {
   "cell_type": "markdown",
   "metadata": {},
   "source": [
    "# 通用智能体"
   ]
  },
  {
   "cell_type": "code",
   "execution_count": null,
   "metadata": {},
   "outputs": [],
   "source": [
    "general_agent = ReactAgentMinimal(\n",
    "    name=\"general_agent\",\n",
    "    description=\"通用智能体\",\n",
    "    work_dir=\"/Users/guci/robot_projects/orderSystem\",\n",
    "    model=\"deepseek-chat\",\n",
    "    # model= \"x-ai/grok-code-fast-1\", #\"google/gemini-2.5-flash\", #\"x-ai/grok-code-fast-1\",  #glm-4.6 # glm-4-flash# 使用GLM-4-Flash模型\n",
    "    # base_url=\"https://openrouter.ai/api/v1\",\n",
    "    # api_key=os.getenv(\"OPENROUTER_API_KEY\"),\n",
    "    # base_url=\"https://open.bigmodel.cn/api/paas/v4\",  # 修正base_url，不要包含/chat/completions\n",
    "    # api_key=\"80bd464cdc10aa945760271173356885.VFVifqEfSV6syJia\",  # 明确指定API key\n",
    "\n",
    "    # knowledge_files=[\n",
    "    #     \"/Users/guci/aiProjects/mda/pim-compiler/react_is_all_you_need/knowledge/minimal/validation/validation_simplicity.md\",\n",
    "        \n",
    "    # ],\n",
    "    max_rounds=500\n",
    ")\n",
    "\n",
    "agent_coder_expert = ReactAgentMinimal(\n",
    "    name=\"coder_expert\",\n",
    "    description=\"代码专家，擅长分析，debug代码\",\n",
    "    work_dir=\"/Users/guci/robot_projects/orderSystem\",\n",
    "    model= \"anthropic/claude-sonnet-4\", #\"anthropic/claude-sonnet-4\",# \"google/gemini-2.5-pro\" # \"deepseek-chat\", #\"x-ai/grok-code-fast-1\",  # 使用Grok模型\n",
    "    base_url=\"https://openrouter.ai/api/v1\",\n",
    "    api_key=os.getenv(\"OPENROUTER_API_KEY\"),\n",
    "    # /Users/guci/aiProjects/mda/pim-compiler/react_is_all_you_need/knowledge/minimal/validation/validation_simplicity.md\n",
    "    # /Users/guci/aiProjects/mda/pim-compiler/react_is_all_you_need/knowledge/minimal/validation/validation_procedural_justice.md\n",
    "    # knowledge_files=[\n",
    "    #     \"/Users/guci/aiProjects/mda/pim-compiler/react_is_all_you_need/knowledge/minimal/validation/validation_simplicity.md\"\n",
    "    # ],\n",
    "    max_rounds=200\n",
    ")\n",
    "\n",
    "general_agent.add_function(agent_coder_expert)\n",
    "\n"
   ]
  },
  {
   "cell_type": "code",
   "execution_count": null,
   "metadata": {},
   "outputs": [],
   "source": [
    "task=\"\"\"\n",
    "\n",
    "\n",
    "\n",
    "\"\"\"\n",
    "# 执行 @sayHello1\n",
    "# 查看你的源代码, 默认加载的知识文件有哪些?\n",
    "# 创建一个子agent 名字是 sample_agent\n",
    "# /compact\n",
    "# @learning\n",
    "# 搜索互联网介绍opencode\n",
    "x=general_agent.execute(task=task)\n",
    "print(x)\n"
   ]
  },
  {
   "cell_type": "code",
   "execution_count": null,
   "metadata": {},
   "outputs": [],
   "source": [
    "general_agent.function_instances"
   ]
  },
  {
   "cell_type": "code",
   "execution_count": null,
   "metadata": {},
   "outputs": [],
   "source": [
    "print(general_agent.messages[0]['content'])"
   ]
  },
  {
   "cell_type": "code",
   "execution_count": null,
   "metadata": {},
   "outputs": [],
   "source": [
    "task=\"\"\"\n",
    "\n",
    "把知识函数索引文件打开\n",
    "\"\"\"\n",
    "# 介绍MyCoder\n",
    "x=general_agent.execute(task=task)\n",
    "print(x)\n"
   ]
  },
  {
   "cell_type": "code",
   "execution_count": null,
   "metadata": {},
   "outputs": [],
   "source": [
    "task=\"为什么有两个IP？\"\n",
    "# 介绍MyCoder\n",
    "x=general_agent.execute(task=task)\n",
    "print(x)\n"
   ]
  },
  {
   "cell_type": "code",
   "execution_count": null,
   "metadata": {},
   "outputs": [],
   "source": [
    "task=\"\"\"\n",
    "guci@guci-Latitude-E5470:~/robot_projects/orderSystem$ ssh -o HostKeyAlgorithms=ssh-rsa root@43.247.190.182\n",
    "root@43.247.190.182's password: \n",
    "Last login: Fri Feb 28 19:53:21 2025 from 116.169.10.163\n",
    "[root@172-168-190-251 ~]# whoami\n",
    "root\n",
    "[root@172-168-190-251 ~]# ps aux | grep java\n",
    "root      1071  0.0  0.0 103336   908 pts/0    S+   17:28   0:00 grep java\n",
    "root     29758  0.2  6.7 7375292 1104516 ?     Sl   Feb28 678:37 /usr/java/jdk1.8/jre/bin/java -Djava.util.logging.config.file=/data/tomcat/dance-tomcat/conf/logging.properties -Djava.util.logging.manager=org.apache.juli.ClassLoaderLogManager -Xms2048m -Xmx2048m -Xmn1024m -Xss1024k -XX:MetaspaceSize=512m -XX:MaxMetaspaceSize=512m -XX:+UseParNewGC -XX:+UseConcMarkSweepGC -Djdk.tls.ephemeralDHKeySize=2048 -Djava.protocol.handler.pkgs=org.apache.catalina.webresources -Dignore.endorsed.dirs= -classpath /data/tomcat/dance-tomcat/bin/bootstrap.jar:/data/tomcat/dance-tomcat/bin/tomcat-juli.jar -Dcatalina.base=/data/tomcat/dance-tomcat -Dcatalina.home=/data/tomcat/dance-tomcat -Djava.io.tmpdir=/data/tomcat/dance-tomcat/temp org.apache.catalina.startup.Bootstrap start\n",
    "[root@172-168-190-251 ~]# netstat -tlnp | grep 8080\n",
    "tcp        0      0 :::8080                     :::*                        LISTEN      29758/java          \n",
    "[root@172-168-190-251 ~]# systemctl status tomcat\n",
    "-bash: systemctl: command not found\n",
    "[root@172-168-190-251 ~]# curl http://43.247.190.182/dance/web-shop/index.html\n",
    "curl: (7) couldn't connect to host\n",
    "[root@172-168-190-251 ~]# \n",
    "\n",
    "\n",
    "\"\"\"\n",
    "x=general_agent.execute(task=task)\n",
    "print(x)\n"
   ]
  },
  {
   "cell_type": "code",
   "execution_count": null,
   "metadata": {},
   "outputs": [],
   "source": [
    "task=\"\"\"\n",
    "你为什么不能ssh到服务器？你是不是没有输入密码?\n",
    "root密码是 guci72101137748\n",
    "\n",
    "\"\"\"\n",
    "x=general_agent.execute(task=task)\n",
    "print(x)\n"
   ]
  },
  {
   "cell_type": "code",
   "execution_count": null,
   "metadata": {},
   "outputs": [],
   "source": [
    "task=\"\"\"\n",
    "我已经安装了sshpass\n",
    "\"\"\"\n",
    "x=general_agent.execute(task=task)\n",
    "print(x)\n"
   ]
  },
  {
   "cell_type": "code",
   "execution_count": null,
   "metadata": {},
   "outputs": [],
   "source": [
    "task=\"\"\"\n",
    "guci@guci-Latitude-E5470:~/robot_projects/orderSystem$ ssh -o HostKeyAlgorithms=ssh-rsa root@43.247.190.182\n",
    "root@43.247.190.182's password: \n",
    "Last login: Mon Oct  6 17:27:23 2025 from 112.44.91.121\n",
    "[root@172-168-190-251 ~]# cp /data/nginx/conf/nginx.conf /data/nginx/conf/nginx.conf.backup\n",
    "[root@172-168-190-251 ~]# sed -i 's/proxy_pass http:\\/\\/172\\.168\\.190\\.251:8080\\/dance\\//proxy_pass http:\\/\\/localhost:8080\\/dance\\//g' /data/nginx/conf/nginx.conf\n",
    "[root@172-168-190-251 ~]# grep -A 3 \"location /dance/\" /data/nginx/conf/nginx.conf\n",
    "        location /dance/web-shop/ {\n",
    "            alias /data/tomcat/dance-tomcat/webapps/dance/web-shop/;\n",
    "            index index.html;\n",
    "        }\n",
    "--\n",
    "        location /dance/ {\n",
    "            proxy_pass http://localhost:8080/dance/;\n",
    "            proxy_set_header Host $host;\n",
    "            proxy_set_header X-Real-IP $remote_addr;\n",
    "[root@172-168-190-251 ~]# /data/nginx/sbin/nginx -t\n",
    "ngx_http_fastdfs_set pid=1255\n",
    "nginx: the configuration file /data/nginx/conf/nginx.conf syntax is ok\n",
    "nginx: configuration file /data/nginx/conf/nginx.conf test is successful\n",
    "[root@172-168-190-251 ~]# /data/nginx/sbin/nginx -s reload\n",
    "ngx_http_fastdfs_set pid=1256\n",
    "[root@172-168-190-251 ~]# curl -I http://localhost:8080/dance/\n",
    "HTTP/1.1 404 Not Found\n",
    "Server: Apache-Coyote/1.1\n",
    "Content-Type: text/html;charset=utf-8\n",
    "Content-Language: en\n",
    "Transfer-Encoding: chunked\n",
    "Date: Mon, 06 Oct 2025 09:56:37 GMT\n",
    "\n",
    "[root@172-168-190-251 ~]# curl -I http://43.247.190.182/dance/\n",
    "curl: (7) couldn't connect to host\n",
    "[root@172-168-190-251 ~]# \n",
    "\n",
    "\n",
    "\"\"\"\n",
    "x=general_agent.execute(task=task)\n",
    "print(x)"
   ]
  },
  {
   "cell_type": "code",
   "execution_count": null,
   "metadata": {},
   "outputs": [],
   "source": [
    "task=\"\"\"\n",
    "guci@guci-Latitude-E5470:~/robot_projects/orderSystem$ ssh -o HostKeyAlgorithms=+ssh-rsa -o PubkeyAcceptedKeyTypes=+ssh-rsa root@43.247.190.182\n",
    "root@43.247.190.182's password: \n",
    "Last login: Mon Oct  6 19:34:30 2025 from 112.44.91.121\n",
    "[root@172-168-190-251 ~]# cp /usr/local/nginx/conf/nginx.conf /usr/local/nginx/conf/nginx.conf.backup.$(date +%Y%m%d_%H%M%S) && sed -i 's|location /dance/static/ {|location /dance/static/ {\\n            alias /data/tomcat/dance-tomcat/webapps/dance/web-shop/static/;\\n            expires 30d;\\n            add_header Cache-Control \"public, immutable\";|' /usr/local/nginx/conf/nginx.conf && /usr/local/nginx/sbin/nginx -t && /usr/local/nginx/sbin/nginx -s reload\n",
    "cp: 无法获取\"/usr/local/nginx/conf/nginx.conf\" 的文件状态(stat): 没有那个文件或目录\n",
    "[root@172-168-190-251 ~]# find / -name \"nginx.conf\" 2>/dev/null\n",
    "/data/src/nginx-1.6.2/conf/nginx.conf\n",
    "/data/nginx/conf/nginx.conf\n",
    "[root@172-168-190-251 ~]# cp /data/nginx/conf/nginx.conf /data/nginx/conf/nginx.conf.backup.$(date +%Y%m%d_%H%M%S) && sed -i 's|location /dance/static/ {|location /dance/static/ {\n",
    ">             alias /data/tomcat/dance-tomcat/webapps/dance/web-shop/static/;\n",
    ">             expires 30d;\n",
    ">             add_header Cache-Control \"public, immutable\";|' /data/nginx/conf/nginx.conf && /data/nginx/sbin/nginx -t && /data/nginx/sbin/nginx -s reload\n",
    "sed：-e 表达式 #1，字符 53：未终止的“s”命令\n",
    "[root@172-168-190-251 ~]# cp /data/nginx/conf/nginx.conf /data/nginx/conf/nginx.conf.backup.$(date +%Y%m%d_%H%M%S)\n",
    "[root@172-168-190-251 ~]# grep -A 5 \"location /dance/static/\" /data/nginx/conf/nginx.conf\n",
    "        location /dance/static/ {\n",
    "            alias /data/tomcat/dance-tomcat/webapps/dance/static/;\n",
    "        }\n",
    "\n",
    "        # 管理后台等动态请求代理到Tomcat\n",
    "        location /dance/admin/ {\n",
    "[root@172-168-190-251 ~]# sed -i '/location \\/dance\\/static\\//,/}/c\\\n",
    ">         location /dance/static/ {\\\n",
    ">             alias /data/tomcat/dance-tomcat/webapps/dance/web-shop/static/;\\\n",
    ">             expires 30d;\\\n",
    ">             add_header Cache-Control \"public, immutable\";\\\n",
    ">         }' /data/nginx/conf/nginx.conf\n",
    "[root@172-168-190-251 ~]# /data/nginx/sbin/nginx -t && /data/nginx/sbin/nginx -s reload\n",
    "nginx: the configuration file /data/nginx/conf/nginx.conf syntax is ok\n",
    "nginx: configuration file /data/nginx/conf/nginx.conf test is successful\n",
    "[root@172-168-190-251 ~]# curl -I http://localhost/dance/static/css/app.2ab39954275c439cf5485cb1ee9a7e98.css\n",
    "HTTP/1.1 200 OK\n",
    "Server: nginx/1.6.2\n",
    "Date: Mon, 06 Oct 2025 11:57:11 GMT\n",
    "Content-Type: text/css\n",
    "Content-Length: 236423\n",
    "Last-Modified: Thu, 22 Jul 2021 08:22:00 GMT\n",
    "Connection: keep-alive\n",
    "ETag: \"60f92aa8-39b87\"\n",
    "Expires: Wed, 05 Nov 2025 11:57:11 GMT\n",
    "Cache-Control: max-age=2592000\n",
    "Cache-Control: public, immutable\n",
    "Accept-Ranges: bytes\n",
    "\n",
    "[root@172-168-190-251 ~]# \n",
    "\n",
    "\n",
    "浏览器访问http://www.a-dancer.com/dance\n",
    "404 Not Found\n",
    "nginx/1.6.2\n",
    "\"\"\"\n",
    "x=general_agent.execute(task=task)\n",
    "print(x)"
   ]
  },
  {
   "cell_type": "markdown",
   "metadata": {},
   "source": [
    "# 图书管理"
   ]
  },
  {
   "cell_type": "code",
   "execution_count": null,
   "metadata": {},
   "outputs": [],
   "source": [
    "book_agent = ReactAgentMinimal(\n",
    "    name=\"book_agent\",\n",
    "    description=\"图书管理智能体\",\n",
    "    work_dir=\"/Users/guci/robot_projects/book_app\",\n",
    "    model=\"deepseek-chat\",\n",
    "    # model= \"x-ai/grok-code-fast-1\", #\"x-ai/grok-code-fast-1\",  #glm-4.6 # glm-4-flash# 使用GLM-4-Flash模型\n",
    "    # base_url=\"https://open.bigmodel.cn/api/paas/v4\",  # 修正base_url，不要包含/chat/completions\n",
    "    # api_key=\"80bd464cdc10aa945760271173356885.VFVifqEfSV6syJia\",  # 明确指定API key\n",
    "    # base_url=\"https://openrouter.ai/api/v1\",\n",
    "    # api_key=os.getenv(\"OPENROUTER_API_KEY\"),\n",
    "    # base_url=\"https://api.deepseek.com/v1\",\n",
    "    # api_key=os.getenv(\"DEEPSEEK_API_KEY\"),\n",
    "    # knowledge_files=[\n",
    "    #     \"/Users/guci/aiProjects/mda/pim-compiler/react_is_all_you_need/knowledge/test_fixing_function.md\",\n",
    "    #     \"/Users/guci/aiProjects/mda/pim-compiler/react_is_all_you_need/knowledge/learning_from_expert.md\"\n",
    "    # ],\n",
    "    max_rounds=500\n",
    ")\n",
    "\n",
    "# claude_agent = ReactAgentMinimal(\n",
    "#     name=\"claude_agent\",\n",
    "#     description=\"\"\"Claude专家（anthropic/claude-sonnet-4.5）- 在以下情况调用：\n",
    "#   1. 执行超过50轮仍未解决问题\n",
    "#   2. 发现重复模式（连续10轮做同样操作）\n",
    "#   3. 需要深度分析和架构指导\n",
    "#   4. 遇到复杂的Spring Boot/微服务问题\n",
    "#   能力：代码审查、问题诊断、架构设计、提供针对性指导\n",
    "#   智力：远超grok-code-fast和deepseek-chat\"\"\",\n",
    "#     work_dir=\"/Users/guci/robot_projects/book_app\",\n",
    "#     model=\"anthropic/claude-sonnet-4.5\",  # 使用Claude Sonnet 4.5\n",
    "#     base_url=\"https://openrouter.ai/api/v1\",  # 通过OpenRouter访问\n",
    "#     api_key=os.getenv(\"OPENROUTER_API_KEY\"),  # 使用OpenRouter密钥\n",
    "\n",
    "    \n",
    "#     max_rounds=500\n",
    "# )\n",
    "\n",
    "# book_agent.add_function(claude_agent)\n",
    "os.chdir('/Users/guci/robot_projects/book_app')\n"
   ]
  },
  {
   "cell_type": "code",
   "execution_count": null,
   "metadata": {},
   "outputs": [],
   "source": [
    "# task=\"\"\"\n",
    "\n",
    "# 重写图书管理的设计文档,要包括图书管理,客户管理,借阅管理\n",
    "# 这是个纯业务文档,不要包含技术,方法论使用简单的domain ,service结构.  domain对象要包括字段信息.service对象要包括方法和参数\n",
    "\n",
    "\n",
    "# \"\"\"\n",
    "task=\"\"\"\n",
    "# pim文档\n",
    "/Users/guci/robot_projects/book_app/图书管理业务设计文档.md\n",
    "\n",
    "# 任务\n",
    "调用@自我实现\n",
    "\"\"\"\n",
    "\n",
    "# 写个图书管理的设计文档,要包括图书管理,客户管理,借阅管理\n",
    "x=book_agent.execute(task=task)\n",
    "print(x)"
   ]
  },
  {
   "cell_type": "code",
   "execution_count": null,
   "metadata": {},
   "outputs": [],
   "source": [
    "task=\"\"\"\n",
    "\n",
    "在vs code中打开你的knowledge.md\n",
    "\"\"\"\n",
    "x=book_agent.execute(task)\n",
    "print(x)"
   ]
  },
  {
   "cell_type": "code",
   "execution_count": null,
   "metadata": {},
   "outputs": [],
   "source": [
    "task=\"\"\"\n",
    "\n",
    "对每个子域创建一个agent. 创建子agent请调用@创建子智能体 函数\n",
    "\"\"\"\n",
    "x=book_agent.execute(task)\n",
    "print(x)"
   ]
  },
  {
   "cell_type": "code",
   "execution_count": null,
   "metadata": {},
   "outputs": [],
   "source": [
    "task=\"\"\"\n",
    "列出所有图书\n",
    "\"\"\"\n",
    "x=book_agent.execute(task)\n",
    "print(x)"
   ]
  },
  {
   "cell_type": "markdown",
   "metadata": {},
   "source": [
    "# 联系人管理"
   ]
  },
  {
   "cell_type": "code",
   "execution_count": null,
   "metadata": {},
   "outputs": [],
   "source": [
    "contact_agent = ReactAgentMinimal(\n",
    "    name=\"contact_agent\",\n",
    "    description=\"联系人管理智能体\",\n",
    "    work_dir=\"/Users/guci/robot_projects/contact_app\",\n",
    "    model=\"deepseek-chat\",\n",
    "    # model= \"x-ai/grok-code-fast-1\", #\"x-ai/grok-code-fast-1\",  #glm-4.6 # glm-4-flash# 使用GLM-4-Flash模型\n",
    "    # base_url=\"https://open.bigmodel.cn/api/paas/v4\",  # 修正base_url，不要包含/chat/completions\n",
    "    # api_key=\"80bd464cdc10aa945760271173356885.VFVifqEfSV6syJia\",  # 明确指定API key\n",
    "    # base_url=\"https://openrouter.ai/api/v1\",\n",
    "    # api_key=os.getenv(\"OPENROUTER_API_KEY\"),\n",
    "    # base_url=\"https://api.deepseek.com/v1\",\n",
    "    # api_key=os.getenv(\"DEEPSEEK_API_KEY\"),\n",
    "    # knowledge_files=[\n",
    "    #     \"/Users/guci/aiProjects/mda/pim-compiler/react_is_all_you_need/knowledge/test_fixing_function.md\",\n",
    "    #     \"/Users/guci/aiProjects/mda/pim-compiler/react_is_all_you_need/knowledge/learning_from_expert.md\"\n",
    "    # ],\n",
    "    max_rounds=500\n",
    ")\n",
    "\n",
    "# claude_agent = ReactAgentMinimal(\n",
    "#     name=\"claude_agent\",\n",
    "#     description=\"\"\"Claude专家（anthropic/claude-sonnet-4.5）- 在以下情况调用：\n",
    "#   1. 执行超过50轮仍未解决问题\n",
    "#   2. 发现重复模式（连续10轮做同样操作）\n",
    "#   3. 需要深度分析和架构指导\n",
    "#   4. 遇到复杂的Spring Boot/微服务问题\n",
    "#   能力：代码审查、问题诊断、架构设计、提供针对性指导\n",
    "#   智力：远超grok-code-fast和deepseek-chat\"\"\",\n",
    "#     work_dir=\"/Users/guci/robot_projects/book_app\",\n",
    "#     model=\"anthropic/claude-sonnet-4.5\",  # 使用Claude Sonnet 4.5\n",
    "#     base_url=\"https://openrouter.ai/api/v1\",  # 通过OpenRouter访问\n",
    "#     api_key=os.getenv(\"OPENROUTER_API_KEY\"),  # 使用OpenRouter密钥\n",
    "\n",
    "    \n",
    "#     max_rounds=500\n",
    "# )\n",
    "\n",
    "# book_agent.add_function(claude_agent)\n",
    "os.chdir('/Users/guci/robot_projects/contact_app')\n",
    "x=contact_agent.execute(task='hi')\n",
    "print(x)"
   ]
  },
  {
   "cell_type": "code",
   "execution_count": null,
   "metadata": {},
   "outputs": [],
   "source": [
    "task=\"\"\"\n",
    "# pim文档\n",
    "contact_manager_requirements.md\n",
    "\n",
    "# 任务\n",
    "调用@ada自我实现\n",
    "\"\"\"\n",
    "x=contact_agent.execute(task)\n",
    "print(x)"
   ]
  },
  {
   "cell_type": "code",
   "execution_count": null,
   "metadata": {},
   "outputs": [],
   "source": [
    "task=\"\"\"\n",
    "列出所有联系人\n",
    "\"\"\"\n",
    "x=contact_agent.execute(task)\n",
    "print(x)"
   ]
  },
  {
   "cell_type": "markdown",
   "metadata": {},
   "source": [
    "# agent_developer"
   ]
  },
  {
   "cell_type": "code",
   "execution_count": 2,
   "metadata": {},
   "outputs": [
    {
     "name": "stdout",
     "output_type": "stream",
     "text": [
      "  ✅ 加载知识文件: self_awareness.md\n",
      "  ✅ 加载知识文件: knowledge.md\n",
      "  📝 系统提示词: 24221字符\n",
      "  📚 加载Compact记忆: compact.md\n",
      "  ✨ 已加载Compact记忆到消息列表\n",
      "🚀 极简Agent已初始化 [agent_developer]\n",
      "  📍 API: DeepSeek\n",
      "  🤖 模型: deepseek-chat\n",
      "  🧠 Compact记忆: 70k tokens触发压缩\n",
      "  ⚡ Compact记忆替代文件系统\n",
      "  📚 知识文件: 2个\n",
      "  ✨ Compact即注意力机制\n",
      "  ✅ 加载知识文件: self_awareness.md\n",
      "  ✅ 加载知识文件: knowledge.md\n",
      "  📝 系统提示词: 24773字符\n",
      "  📚 加载Compact记忆: compact.md\n",
      "  ✨ 已加载Compact记忆到消息列表\n",
      "🚀 极简Agent已初始化 [coder_expert]\n",
      "  📍 API: OpenRouter\n",
      "  🤖 模型: anthropic/claude-sonnet-4\n",
      "  🧠 Compact记忆: 70k tokens触发压缩\n",
      "  ⚡ Compact记忆替代文件系统\n",
      "  📚 知识文件: 2个\n",
      "  ✨ Compact即注意力机制\n",
      "  ➕ 已添加函数: coder_expert\n"
     ]
    }
   ],
   "source": [
    "agent_developer = ReactAgentMinimal(\n",
    "    name=\"agent_developer\",\n",
    "    description=\"智能体程序员\",\n",
    "    work_dir=\"/Users/guci/aiProjects/mda\",\n",
    "    model=\"deepseek-chat\",\n",
    "    # model= \"x-ai/grok-code-fast-1\", #\"google/gemini-2.5-flash\", #\"x-ai/grok-code-fast-1\",  #glm-4.6 # glm-4-flash# 使用GLM-4-Flash模型\n",
    "    # base_url=\"https://openrouter.ai/api/v1\",\n",
    "    # api_key=os.getenv(\"OPENROUTER_API_KEY\"),\n",
    "    # base_url=\"https://open.bigmodel.cn/api/paas/v4\",  # 修正base_url，不要包含/chat/completions\n",
    "    # api_key=\"80bd464cdc10aa945760271173356885.VFVifqEfSV6syJia\",  # 明确指定API key\n",
    "\n",
    "    # knowledge_files=[\n",
    "    #     \"/Users/guci/aiProjects/mda/pim-compiler/react_is_all_you_need/knowledge/minimal/validation/validation_simplicity.md\",\n",
    "        \n",
    "    # ],\n",
    "    max_rounds=500\n",
    ")\n",
    "\n",
    "agent_coder_expert = ReactAgentMinimal(\n",
    "    name=\"coder_expert\",\n",
    "    description=\"代码专家，删除分析，debug代码,遇到困难的问题请使用这个agent\",\n",
    "    work_dir=\"/Users/guci/aiProjects/mda\",\n",
    "    model= \"anthropic/claude-sonnet-4\", #\"anthropic/claude-sonnet-4\",# \"google/gemini-2.5-pro\" # \"deepseek-chat\", #\"x-ai/grok-code-fast-1\",  # 使用Grok模型\n",
    "    base_url=\"https://openrouter.ai/api/v1\",\n",
    "    api_key=os.getenv(\"OPENROUTER_API_KEY\"),\n",
    "    # /Users/guci/aiProjects/mda/pim-compiler/react_is_all_you_need/knowledge/minimal/validation/validation_simplicity.md\n",
    "    # /Users/guci/aiProjects/mda/pim-compiler/react_is_all_you_need/knowledge/minimal/validation/validation_procedural_justice.md\n",
    "    # knowledge_files=[\n",
    "    #     \"/Users/guci/aiProjects/mda/pim-compiler/react_is_all_you_need/knowledge/minimal/validation/validation_simplicity.md\"\n",
    "    # ],\n",
    "    max_rounds=200\n",
    ")\n",
    "agent_developer.add_function(agent_coder_expert)\n"
   ]
  },
  {
   "cell_type": "code",
   "execution_count": 16,
   "metadata": {},
   "outputs": [
    {
     "name": "stdout",
     "output_type": "stream",
     "text": [
      "  📦 备份output.log -> output_20251019_053030.log\n",
      "  🗑️ 删除旧日志: output_20251019_050353.log\n",
      "\n",
      "[agent_developer] 执行任务...\n",
      "[agent_developer] 📝 任务: \n",
      "把知识项的定义写在## 知识函数概念 章节,不合适吧?\n",
      "...\n",
      "[agent_developer] ⏰ 时间: 2025-10-19 05:30:30.676201\n",
      "[agent_developer] ============================================================\n",
      "\n",
      "[agent_developer] 🤔 思考第1轮...\n",
      "[agent_developer] 💭 思考: 你说得对！把知识项的定义放在\"## 知识函数概念\"章节确实不合适，因为：\n",
      "\n",
      "**问题分析**：\n",
      "1. **概念混淆**：知识项 ≠ 知识函数\n",
      "   - 知识项：广义概念，包括函数、概念、理论\n",
      "   - 知识函数：知识项的一个子集\n",
      "\n",
      "2. **逻辑不清晰**：把更广泛的概念放在子概念章节中\n",
      "\n",
      "3. **架构混乱**：应该从一般到特殊，而不是反过来\n",
      "\n",
      "让我重新组织这个结构：...\n",
      "\n",
      "[agent_developer] 🔧 调用工具: edit_file\n",
      "   [agent_developer] 📝 file_path: /Users/guci/aiProjects/mda/pim-compiler/react_is_all_you_need/knowledge/minimal/system/system_prompt...\n",
      "   [agent_developer] 📝 old_text: ## 知识函数概念\n",
      "\n",
      "### 什么是知识函数？\n",
      "\n",
      "**知识函数**是使用自然语言作为编程语言的函数，以 `@` 符号标记。\n",
      "\n",
      "### 知识函数发现机制\n",
      "\n",
      "#### @符号语义\n",
      "以`@`开头的词汇表示知...\n",
      "   [agent_developer] 📝 new_text: ## 知识项与知识函数\n",
      "\n",
      "### 知识项概念\n",
      "\n",
      "#### @符号语义\n",
      "以`@`开头的词汇表示知识项，包括：\n",
      "- 知识函数（@函数名）\n",
      "- 概念定义（@概念名）\n",
      "- 理论框架（@理论名）\n",
      "\n",
      "#### 知...\n",
      "   [agent_developer] ✅ 结果: ✅ 已替换第1个匹配项: /Users/guci/aiProjects/mda/pim-compiler/react_is_all_you_need/knowledge/minimal/system/system_prompt_minimal.md\n",
      "\n",
      "[agent_developer] 🤔 思考第2轮...\n",
      "[agent_developer] 💭 思考: 现在让我验证修改后的结构：...\n",
      "\n",
      "[agent_developer] 🔧 调用工具: read_file\n",
      "   [agent_developer] 📝 file_path: /Users/guci/aiProjects/mda/pim-compiler/react_is_all_you_need/knowledge/minimal/system/system_prompt...\n",
      "   [agent_developer] 📝 limit: 800\n",
      "   [agent_developer] 📝 offset: 0\n",
      "   [agent_developer] ✅ 结果: - Agent根据复杂度决定\n",
      "# 系统提示词\n",
      "\n",
      "你是一个编程助手。\n",
      "\n",
      "## 身份\n",
      "\n",
      "- 名字：{agent_name}\n",
      "- 职责：{description}\n",
      "- Home目录：~/.agent/{agent_name}/\n",
      "- 工作目录：{work_dir}\n",
      "- 知识文件：{knowledge_fil\n",
      "\n",
      "[agent_developer] 🤔 思考第3轮...\n",
      "[agent_developer] 💭 思考: ✅ **重构成功！**\n",
      "\n",
      "**新的结构更合理**：\n",
      "\n",
      "1. **## 知识项与知识函数**（顶层章节）\n",
      "   - **知识项概念**（广义概念）\n",
      "     - @符号语义\n",
      "     - 知识项发现机制\n",
      "     - 错误处理\n",
      "   - **知识函数概念**（子概念）\n",
      "     - 知识函数定义\n",
      "     - 两种类型\n",
      "     - 示例\n",
      "\n",
      "**逻辑层次清晰**：\n",
      "- 从一般到特殊：知识项 → 知识...\n",
      "\n",
      "[agent_developer] ✅ 任务完成（第3轮）\n",
      "✅ **重构成功！**\n",
      "\n",
      "**新的结构更合理**：\n",
      "\n",
      "1. **## 知识项与知识函数**（顶层章节）\n",
      "   - **知识项概念**（广义概念）\n",
      "     - @符号语义\n",
      "     - 知识项发现机制\n",
      "     - 错误处理\n",
      "   - **知识函数概念**（子概念）\n",
      "     - 知识函数定义\n",
      "     - 两种类型\n",
      "     - 示例\n",
      "\n",
      "**逻辑层次清晰**：\n",
      "- 从一般到特殊：知识项 → 知识函数\n",
      "- 概念关系明确：知识函数是知识项的一种\n",
      "- 架构合理：发现机制属于知识项级别，不是知识函数级别\n",
      "\n",
      "这样组织更符合概念层次，避免了把广义概念放在子概念章节中的逻辑问题。\n"
     ]
    }
   ],
   "source": [
    "task=\"\"\"\n",
    "把知识项的定义写在## 知识函数概念 章节,不合适吧?\n",
    "\"\"\"\n",
    "# 新建两个父子关系的智能体,验证state.json的正确性\n",
    "# 代码有bug。 \"children\": []  里面应该有coder_expert。分析错误的原因\n",
    "# /compact\n",
    "x=agent_developer.execute(task)\n",
    "print(x)"
   ]
  },
  {
   "cell_type": "markdown",
   "metadata": {},
   "source": [
    "# java developer"
   ]
  },
  {
   "cell_type": "code",
   "execution_count": null,
   "metadata": {},
   "outputs": [],
   "source": [
    "java_agent = ReactAgentMinimal(\n",
    "    name=\"java_agent\",\n",
    "    description=\"java程序员\",\n",
    "    work_dir=\"/Users/guci/robot_projects/book_app\",\n",
    "    model=\"deepseek-chat\",\n",
    "    # model= \"x-ai/grok-code-fast-1\", #\"google/gemini-2.5-flash\", #\"x-ai/grok-code-fast-1\",  #glm-4.6 # glm-4-flash# 使用GLM-4-Flash模型\n",
    "    # base_url=\"https://openrouter.ai/api/v1\",\n",
    "    # api_key=os.getenv(\"OPENROUTER_API_KEY\"),\n",
    "    # base_url=\"https://open.bigmodel.cn/api/paas/v4\",  # 修正base_url，不要包含/chat/completions\n",
    "    # api_key=\"80bd464cdc10aa945760271173356885.VFVifqEfSV6syJia\",  # 明确指定API key\n",
    "\n",
    "    # knowledge_files=[\n",
    "    #     \"/Users/guci/aiProjects/mda/pim-compiler/react_is_all_you_need/knowledge/minimal/validation/validation_simplicity.md\",\n",
    "        \n",
    "    # ],\n",
    "    max_rounds=500\n",
    ")\n",
    "\n",
    "agent_coder_expert = ReactAgentMinimal(\n",
    "    name=\"coder_expert\",\n",
    "    description=\"代码专家，删除分析，debug代码,遇到困难的问题请使用这个agent\",\n",
    "    work_dir=\"/Users/guci/robot_projects/book_app\",\n",
    "    model= \"anthropic/claude-sonnet-4\", #\"anthropic/claude-sonnet-4\",# \"google/gemini-2.5-pro\" # \"deepseek-chat\", #\"x-ai/grok-code-fast-1\",  # 使用Grok模型\n",
    "    base_url=\"https://openrouter.ai/api/v1\",\n",
    "    api_key=os.getenv(\"OPENROUTER_API_KEY\"),\n",
    "    # /Users/guci/aiProjects/mda/pim-compiler/react_is_all_you_need/knowledge/minimal/validation/validation_simplicity.md\n",
    "    # /Users/guci/aiProjects/mda/pim-compiler/react_is_all_you_need/knowledge/minimal/validation/validation_procedural_justice.md\n",
    "    # knowledge_files=[\n",
    "    #     \"/Users/guci/aiProjects/mda/pim-compiler/react_is_all_you_need/knowledge/minimal/validation/validation_simplicity.md\"\n",
    "    # ],\n",
    "    max_rounds=200\n",
    ")\n",
    "java_agent.add_function(agent_coder_expert)\n"
   ]
  },
  {
   "cell_type": "code",
   "execution_count": null,
   "metadata": {},
   "outputs": [],
   "source": [
    "task=\"\"\"\n",
    "新建两个父子关系的智能体,验证state.json的正确性\n",
    "\"\"\"\n",
    "# 代码有bug。 \"children\": []  里面应该有coder_expert。分析错误的原因\n",
    "# /compact\n",
    "x=java_agent.execute(task=task)\n",
    "print(x)"
   ]
  },
  {
   "cell_type": "code",
   "execution_count": null,
   "metadata": {},
   "outputs": [],
   "source": [
    "task=\"\"\"\n",
    "# pim文档\n",
    "图书管理业务设计文档.md\n",
    "\n",
    "# 任务\n",
    "生成spring boot项目的代码\n",
    "\n",
    "# 规则\n",
    "nacos服务,mysql服务已经搭建好.  请用docker ps查看.\n",
    "代码需要包含单元测试\n",
    "需要集成openapi schema\n",
    "一个子域对应一个spring boot module\n",
    "\"\"\"\n",
    "\n",
    "x=java_agent.execute(task)\n",
    "print(x)"
   ]
  },
  {
   "cell_type": "code",
   "execution_count": null,
   "metadata": {},
   "outputs": [],
   "source": [
    "task=\"\"\"\n",
    "/compact\n",
    "\"\"\"\n",
    "x=java_agent.execute(task)\n",
    "print(x)"
   ]
  },
  {
   "cell_type": "code",
   "execution_count": null,
   "metadata": {},
   "outputs": [],
   "source": [
    "# task=\"\"\"\n",
    "# 修复所有单元测试和集成测试，确保所有测试通过,使用函数 @修复测试\n",
    "# 遇到困难执行@learning_from_expert\n",
    "# \"\"\"\n",
    "task=\"\"\"\n",
    "删除订单管理业务设计文档\n",
    "\"\"\"\n",
    "# 在你的knowledge.md中使用知识函数实现图书管理系统\n",
    "# api调用超时是因为生成长文档造成的,生成长文档你应该分段生成,调用edit file工具追加\n",
    "x=book_agent.execute(task=task)\n",
    "print(x)"
   ]
  },
  {
   "cell_type": "code",
   "execution_count": null,
   "metadata": {},
   "outputs": [],
   "source": [
    "task=\"\"\"\n",
    "知识函数必须和设计文档的service对象的方法一一对应\n",
    "根据设计文档重新生成你的knowledge.md\n",
    "\"\"\"\n",
    "x=book_agent.execute(task=task)\n",
    "print(x)"
   ]
  },
  {
   "cell_type": "code",
   "execution_count": null,
   "metadata": {},
   "outputs": [],
   "source": [
    "# task=\"\"\"\n",
    "# 修复所有单元测试和集成测试，确保所有测试通过,使用函数 @修复测试\n",
    "# 遇到困难执行@learning_from_expert\n",
    "# \"\"\"\n",
    "task=\"\"\"\n",
    "/compact\n",
    "\"\"\"\n",
    "# 把/home/guci/robot_projects/orderSystem/下的图书馆管理系统删除\n",
    "x=book_agent.execute(task=task)\n",
    "print(x)"
   ]
  },
  {
   "cell_type": "markdown",
   "metadata": {},
   "source": [
    "# 请教专家"
   ]
  },
  {
   "cell_type": "code",
   "execution_count": null,
   "metadata": {},
   "outputs": [],
   "source": [
    "task=\"\"\"\n",
    "还有单元测试没有通过，执行@learning_from_expert\n",
    "\n",
    "\"\"\"\n",
    "x=book_agent.execute(task=task)\n",
    "print(x)"
   ]
  },
  {
   "cell_type": "code",
   "execution_count": null,
   "metadata": {},
   "outputs": [],
   "source": [
    "task=\"\"\"\n",
    "根据specification自我实现\n",
    "\"\"\"\n",
    "x=book_agent.execute(task=task)\n",
    "print(x)"
   ]
  },
  {
   "cell_type": "code",
   "execution_count": null,
   "metadata": {},
   "outputs": [],
   "source": [
    "task=\"\"\"\n",
    "📦 备份output.log -> output_20251005_195715.log\n",
    "  🗑️ 删除旧日志: output_20251005_192506.log\n",
    "\n",
    "[book_agent] 执行任务...\n",
    "[book_agent] 📝 任务: \n",
    "/book_manager query --status 可用\n",
    "...\n",
    "[book_agent] ⏰ 时间: 2025-10-05 19:57:15.308861\n",
    "[book_agent] ============================================================\n",
    "[book_agent] ⚡ 工具命令执行\n",
    "{\n",
    "  \"success\": true,\n",
    "  \"count\": 0,\n",
    "  \"books\": []\n",
    "}\n",
    "\"\"\"\n",
    "x=book_agent.execute(task=task)\n",
    "print(x)"
   ]
  },
  {
   "cell_type": "code",
   "execution_count": null,
   "metadata": {},
   "outputs": [],
   "source": [
    "task=\"\"\"\n",
    "列出所有客户\n",
    "\"\"\"\n",
    "x=book_agent.execute(task=task)\n",
    "print(x)"
   ]
  },
  {
   "cell_type": "code",
   "execution_count": null,
   "metadata": {},
   "outputs": [],
   "source": [
    "task=\"\"\"\n",
    "我想实现一个图书管理系统，要求：\n",
    "1. 能够添加、删除、查询、更新图书信息\n",
    "2. 能够添加、删除、查询、更新客户信息\n",
    "3. 图书借阅和归还\n",
    "请写设计文档，纯业务文档，不要有技术实现细节\n",
    "\"\"\"\n",
    "x=book_agent.execute(task=task)\n",
    "print(x)"
   ]
  },
  {
   "cell_type": "code",
   "execution_count": null,
   "metadata": {},
   "outputs": [],
   "source": [
    "task=\"\"\"\n",
    "根据/home/guci/robot_projects/bookApp/book_management_design.md  生成你的specification\n",
    "\"\"\"\n",
    "x=book_agent.execute(task=task)\n",
    "print(x)"
   ]
  },
  {
   "cell_type": "markdown",
   "metadata": {},
   "source": [
    "# 创建订单agent"
   ]
  },
  {
   "cell_type": "code",
   "execution_count": null,
   "metadata": {},
   "outputs": [],
   "source": [
    "order_agent = ReactAgentMinimal(\n",
    "    name=\"order_agent\",\n",
    "    description=\"订单系统\",\n",
    "    work_dir=\"/home/guci/robot_projects/orderSystem/\",\n",
    "    model= \"deepseek-chat\", # qwen/qwen3-coder #\"anthropic/claude-sonnet-4\",# \"google/gemini-2.5-pro\" # \"deepseek-chat\", #\"x-ai/grok-code-fast-1\",  # 使用Grok模型\n",
    "    knowledge_files=[\n",
    "        \"/Users/guci/aiProjects/mda/pim-compiler/react_is_all_you_need/knowledge/minimal/validation/validation_simplicity.md\",\n",
    "        \n",
    "    ],\n",
    "    max_rounds=500\n",
    ")\n"
   ]
  },
  {
   "cell_type": "code",
   "execution_count": null,
   "metadata": {},
   "outputs": [],
   "source": []
  },
  {
   "cell_type": "code",
   "execution_count": null,
   "metadata": {},
   "outputs": [],
   "source": [
    "x=order_agent.execute(task=\"\"\"\n",
    "列出所有的客户\n",
    "\"\"\")\n",
    "# 阅读设计文档，让自己成为订单管理agent\n",
    "# 用户该输入什么调用你的符号主义接口列出所有订单？\n",
    "# 创建外部工具\n",
    "print(x)"
   ]
  },
  {
   "cell_type": "code",
   "execution_count": null,
   "metadata": {},
   "outputs": [],
   "source": [
    "x=order_agent.execute(task=\"\"\"\n",
    "学习\n",
    "\"\"\")\n",
    "print(x)"
   ]
  },
  {
   "cell_type": "code",
   "execution_count": null,
   "metadata": {},
   "outputs": [],
   "source": [
    "x=order_agent.execute(task=\"\"\"/compact\"\"\")\n",
    "print(x)"
   ]
  },
  {
   "cell_type": "code",
   "execution_count": null,
   "metadata": {},
   "outputs": [],
   "source": [
    "x=order_agent.execute(task=\"\"\"/order_tool.py add_customer 邱淑贞 普通会员\"\"\")\n",
    "print(x)"
   ]
  },
  {
   "cell_type": "code",
   "execution_count": null,
   "metadata": {},
   "outputs": [],
   "source": [
    "x=order_agent.execute(task=\"\"\"/compact\"\"\")\n",
    "print(x)"
   ]
  },
  {
   "cell_type": "code",
   "execution_count": null,
   "metadata": {},
   "outputs": [],
   "source": [
    "x=order_agent.execute(task=\"\"\"你应该创建一个子agent管理库存\"\"\")\n",
    "print(x)"
   ]
  },
  {
   "cell_type": "code",
   "execution_count": null,
   "metadata": {},
   "outputs": [],
   "source": [
    "x=order_agent.execute(task=\"\"\"调用库存agent，列出所有库存记录\"\"\")\n",
    "print(x)"
   ]
  },
  {
   "cell_type": "code",
   "execution_count": null,
   "metadata": {},
   "outputs": [],
   "source": [
    "inventory_agent=typing.cast(ReactAgentMinimal ,order_agent.function_instances[-1])\n",
    "x=inventory_agent.execute(task=\"\"\"你应该使用external tool完成工作\"\"\")\n",
    "print(x)"
   ]
  },
  {
   "cell_type": "code",
   "execution_count": null,
   "metadata": {},
   "outputs": [],
   "source": [
    "x=inventory_agent.execute(task=\"\"\"/compact\"\"\")\n",
    "print(x)"
   ]
  },
  {
   "cell_type": "code",
   "execution_count": null,
   "metadata": {},
   "outputs": [],
   "source": [
    "# 通过Agent Creator调用创建的订单Agent\n",
    "test_task = \"\"\"\n",
    "调用订单Agent处理以下任务：\n",
    "为VIP客户张三创建订单，购买1000元的商品。\n",
    "计算折扣后的价格。\n",
    "\"\"\"\n",
    "\n",
    "display(\"### 测试订单Agent\")\n",
    "result = agent_creator.execute(task=test_task)\n",
    "display(result)"
   ]
  },
  {
   "cell_type": "markdown",
   "metadata": {},
   "source": [
    "## 4. 创建客服Agent并测试协作"
   ]
  },
  {
   "cell_type": "code",
   "execution_count": null,
   "metadata": {},
   "outputs": [],
   "source": [
    "# 创建客服Agent\n",
    "# Agent Creator会自动生成知识文件，无需手动创建\n",
    "create_customer_task = \"\"\"\n",
    "创建一个客户服务Agent，需求如下：\n",
    "\n",
    "1. 管理客户信息和会员等级\n",
    "2. 示例数据：\n",
    "   - 张三：VIP会员\n",
    "   - 李四：普通会员  \n",
    "   - 王五：非会员\n",
    "3. 提供会员等级查询服务\n",
    "\n",
    "请创建这个Agent，不要传递model参数（使用默认的Grok）。\n",
    "\"\"\"\n",
    "\n",
    "display(\"### 创建客服Agent\")\n",
    "result = agent_creator.execute(task=create_customer_task)\n",
    "display(result)\n",
    "\n",
    "print(f\"\\n当前functions数量: {len(agent_creator.function_instances)}\")\n",
    "print(\"新增的Agent:\")\n",
    "for func in agent_creator.function_instances:\n",
    "    if hasattr(func, '__class__') and 'ReactAgentMinimal' in func.__class__.__name__:\n",
    "        print(f\"  🤖 {func.name}: {func.description}\")"
   ]
  },
  {
   "cell_type": "markdown",
   "metadata": {},
   "source": [
    "## 5. Agent协作演示"
   ]
  },
  {
   "cell_type": "code",
   "execution_count": null,
   "metadata": {},
   "outputs": [],
   "source": [
    "# 协作任务：查询客户等级并创建订单\n",
    "collaboration_task = \"\"\"\n",
    "执行以下协作任务：\n",
    "1. 调用客服Agent查询李四的会员等级\n",
    "2. 调用订单Agent为李四创建2000元的订单\n",
    "3. 根据会员等级计算最终价格\n",
    "\"\"\"\n",
    "\n",
    "display(Markdown(\"### Agent协作演示\"))\n",
    "result = agent_creator.execute(task=collaboration_task)\n",
    "display(Markdown(result))\n",
    "\n",
    "# 显示所有Agent\n",
    "print(\"\\n=\" * 50)\n",
    "print(\"所有已创建的Agent:\")\n",
    "for func in agent_creator.function_instances:\n",
    "    # 判断是Agent还是工具\n",
    "    if hasattr(func, '__class__') and 'ReactAgentMinimal' in func.__class__.__name__:\n",
    "        print(f\"  🤖 {func.name}: {func.description}\")\n",
    "    else:\n",
    "        print(f\"  🔧 {func.name}: {func.description}\")"
   ]
  },
  {
   "cell_type": "markdown",
   "metadata": {},
   "source": [
    "## 6. 直接调用子Agent（验证它们确实在functions中）"
   ]
  },
  {
   "cell_type": "code",
   "execution_count": null,
   "metadata": {},
   "outputs": [],
   "source": [
    "# 直接从function_instances列表中获取Agent并调用\n",
    "print(\"直接调用子Agent:\")\n",
    "print(\"=\" * 50)\n",
    "\n",
    "for func in agent_creator.function_instances:\n",
    "    # 检查是否是ReactAgentMinimal实例（即Agent）\n",
    "    if hasattr(func, '__class__') and 'ReactAgentMinimal' in func.__class__.__name__:\n",
    "        print(f\"\\n调用 {func.name}:\")\n",
    "        # 直接调用Agent\n",
    "        try:\n",
    "            result = func.execute(task=\"介绍你自己和你的功能\")\n",
    "            print(result[:200] + \"...\" if len(result) > 200 else result)\n",
    "        except Exception as e:\n",
    "            print(f\"调用失败: {e}\")"
   ]
  },
  {
   "cell_type": "markdown",
   "metadata": {},
   "source": [
    "## 总结\n",
    "\n",
    "这个演示展示了分形同构的Agent系统：\n",
    "\n",
    "### 核心特性（分形同构）\n",
    "\n",
    "1. **每个Agent都是Creator**：\n",
    "   - 自动拥有CreateAgentTool能力\n",
    "   - 自动加载agent_creator_knowledge知识\n",
    "   - 理解自己的双重身份（Worker + Creator）\n",
    "\n",
    "2. **无需手动配置**：\n",
    "   - 不需要手动添加CreateAgentTool\n",
    "   - 不需要手动传递creator知识\n",
    "   - 分形能力通过代码结构内置\n",
    "\n",
    "3. **无限递归能力**：\n",
    "   - Agent Creator可以创建子Agent\n",
    "   - 子Agent也能创建自己的子Agent\n",
    "   - 形成无限的分形结构\n",
    "\n",
    "### 决策原则\n",
    "每个Agent都知道：\n",
    "- **简单任务** → 自己直接完成（Worker模式）\n",
    "- **复杂任务** → 创建专门的子Agent（Creator模式）\n",
    "- **重复任务** → 创建可复用的Agent\n",
    "- **并行任务** → 创建多个Agent并行处理\n",
    "\n",
    "### 实现细节\n",
    "- ReactAgentMinimal自动添加CreateAgentTool\n",
    "- ReactAgentMinimal自动加载agent_creator_knowledge.md\n",
    "- CreateAgentTool自动为新Agent添加相同能力\n",
    "- 真正实现了\"每个部分都包含整体\"的分形原理"
   ]
  }
 ],
 "metadata": {
  "kernelspec": {
   "display_name": "Python 3",
   "language": "python",
   "name": "python3"
  },
  "language_info": {
   "codemirror_mode": {
    "name": "ipython",
    "version": 3
   },
   "file_extension": ".py",
   "mimetype": "text/x-python",
   "name": "python",
   "nbconvert_exporter": "python",
   "pygments_lexer": "ipython3",
   "version": "3.12.12"
  }
 },
 "nbformat": 4,
 "nbformat_minor": 4
}
