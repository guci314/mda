{
 "cells": [
  {
   "cell_type": "markdown",
   "metadata": {},
   "source": [
    "# Agent Creator v2: 正确的Agent创建和管理\n",
    "\n",
    "这个版本展示如何正确创建Agent并将其添加到父Agent的functions列表中。"
   ]
  },
  {
   "cell_type": "code",
   "execution_count": 1,
   "metadata": {},
   "outputs": [
    {
     "name": "stdout",
     "output_type": "stream",
     "text": [
      "  ✅ 已加载11个环境变量: /home/guci/aiProjects/mda/pim-compiler/.env\n",
      "✅ 环境准备完成 - 已加载最新版本\n",
      "📌 提示：如果Agent没有自我认知，请重启kernel\n"
     ]
    }
   ],
   "source": [
    "# 重要：重新启动kernel以加载最新代码！\n",
    "# Kernel -> Restart Kernel\n",
    "\n",
    "import sys\n",
    "import os\n",
    "sys.path.insert(0, '/home/guci/aiProjects/mda/pim-compiler/react_is_all_you_need')\n",
    "\n",
    "# 强制重新加载模块\n",
    "if 'core.react_agent_minimal' in sys.modules:\n",
    "    del sys.modules['core.react_agent_minimal']\n",
    "if 'core.tool_base' in sys.modules:\n",
    "    del sys.modules['core.tool_base']\n",
    "\n",
    "# 强制重新加载模块（清除缓存）\n",
    "import importlib\n",
    "if 'core.react_agent_minimal' in sys.modules:\n",
    "    importlib.reload(sys.modules['core.react_agent_minimal'])\n",
    "if 'core.tools.create_agent_tool' in sys.modules:\n",
    "    importlib.reload(sys.modules['core.tools.create_agent_tool'])\n",
    "\n",
    "from core.react_agent_minimal import ReactAgentMinimal\n",
    "from core.tools.create_agent_tool import CreateAgentTool\n",
    "from pathlib import Path\n",
    "import json\n",
    "from datetime import datetime\n",
    "from IPython.display import display\n",
    "\n",
    "print(\"✅ 环境准备完成 - 已加载最新版本\")\n",
    "print(\"📌 提示：如果Agent没有自我认知，请重启kernel\")"
   ]
  },
  {
   "cell_type": "markdown",
   "metadata": {},
   "source": [
    "# 天衍智的工作"
   ]
  },
  {
   "cell_type": "code",
   "execution_count": null,
   "metadata": {},
   "outputs": [],
   "source": [
    "tyz_worker = ReactAgentMinimal(\n",
    "    name=\"tyz_worker\",\n",
    "    description=\"从事天衍智的工作\",\n",
    "    work_dir=\"/home/guci/robot_projects/rag_sample/\",\n",
    "    model= \"x-ai/grok-code-fast-1\", #\"anthropic/claude-sonnet-4\",# \"google/gemini-2.5-pro\" # \"deepseek-chat\", #\"x-ai/grok-code-fast-1\",  # 使用Grok模型\n",
    "    # base_url=\"https://openrouter.ai/api/v1\",\n",
    "    # api_key=os.getenv(\"OPENROUTER_API_KEY\"),\n",
    "    # /home/guci/aiProjects/mda/pim-compiler/react_is_all_you_need/knowledge/minimal/validation/validation_simplicity.md\n",
    "    # /home/guci/aiProjects/mda/pim-compiler/react_is_all_you_need/knowledge/minimal/validation/validation_procedural_justice.md\n",
    "    knowledge_files=[\n",
    "        \"/home/guci/aiProjects/mda/pim-compiler/react_is_all_you_need/knowledge/minimal/validation/validation_simplicity.md\"\n",
    "    ],\n",
    "    max_rounds=200\n",
    ")\n"
   ]
  },
  {
   "cell_type": "code",
   "execution_count": null,
   "metadata": {},
   "outputs": [],
   "source": [
    "task=\"\"\"\n",
    "把description修改成“自知者明 自胜者强112”\n",
    "\"\"\"\n",
    "x=tyz_worker.execute(task=task)\n",
    "print(x)"
   ]
  },
  {
   "cell_type": "markdown",
   "metadata": {},
   "source": [
    "## 1. 创建Agent Creator（带CreateAgentTool）"
   ]
  },
  {
   "cell_type": "code",
   "execution_count": null,
   "metadata": {},
   "outputs": [],
   "source": [
    "# 创建Agent Creator\n",
    "# 注意：现在不需要手动添加CreateAgentTool，每个Agent默认就有这个能力\n",
    "agent_creator = ReactAgentMinimal(\n",
    "    name=\"agent_creator_v2\",\n",
    "    description=\"增强版Agent创建器，能正确管理子Agent\",\n",
    "    work_dir=\"/home/guci/aiProjects/mda/pim-compiler/react_is_all_you_need\",\n",
    "    model= \"x-ai/grok-code-fast-1\", #\"anthropic/claude-sonnet-4\",# \"google/gemini-2.5-pro\" # \"deepseek-chat\", #\"x-ai/grok-code-fast-1\",  # 使用Grok模型\n",
    "    # base_url=\"https://openrouter.ai/api/v1\",\n",
    "    # api_key=os.getenv(\"OPENROUTER_API_KEY\"),\n",
    "    # /home/guci/aiProjects/mda/pim-compiler/react_is_all_you_need/knowledge/minimal/validation/validation_simplicity.md\n",
    "    # /home/guci/aiProjects/mda/pim-compiler/react_is_all_you_need/knowledge/minimal/validation/validation_procedural_justice.md\n",
    "    knowledge_files=[\n",
    "        \"/home/guci/aiProjects/mda/pim-compiler/react_is_all_you_need/knowledge/minimal/validation/validation_simplicity.md\",\n",
    "        \"/home/guci/aiProjects/mda/pim-compiler/react_is_all_you_need/knowledge/aia_architecture_knowledge.md\"\n",
    "    ],\n",
    "    max_rounds=200\n",
    ")\n",
    "\n",
    "\n",
    "\n",
    "agent_creator._auto_save_state()\n",
    "\n",
    "print(\"🤖 Agent Creator v2 已初始化（分形同构版）\")\n",
    "print(f\"   当前functions数量: {len(agent_creator.function_instances)}\")\n",
    "print(\"   自动包含的工具:\")\n",
    "for func in agent_creator.function_instances:\n",
    "    # 检查是否有name属性\n",
    "    if hasattr(func, 'name') and func.name == 'create_agent':\n",
    "        print(f\"     ✅ {func.name}: 创建子Agent的能力（分形同构）\")\n",
    "print(f\"   使用模型: {agent_creator.model}\")\n",
    "print(\"   默认创建的Agent也会自动有CreateAgentTool能力\")\n",
    "\n"
   ]
  },
  {
   "cell_type": "code",
   "execution_count": null,
   "metadata": {},
   "outputs": [],
   "source": [
    "task=\"\"\"\n",
    "查看你的源代码 总结\n",
    "\"\"\"\n",
    "x=agent_creator.execute(task=task)\n",
    "print(x)"
   ]
  },
  {
   "cell_type": "code",
   "execution_count": null,
   "metadata": {},
   "outputs": [],
   "source": [
    "task=\"\"\"\n",
    "@learning\n",
    "\"\"\"\n",
    "x=agent_creator.execute(task=task)\n",
    "print(x)"
   ]
  },
  {
   "cell_type": "code",
   "execution_count": null,
   "metadata": {},
   "outputs": [],
   "source": [
    "\n",
    "agent_coder_expert = ReactAgentMinimal(\n",
    "    name=\"coder_expert\",\n",
    "    description=\"代码专家，删除分析，debug代码\",\n",
    "    work_dir=\"/tmp/agent_creator_v2\",\n",
    "    model= \"anthropic/claude-sonnet-4\", #\"anthropic/claude-sonnet-4\",# \"google/gemini-2.5-pro\" # \"deepseek-chat\", #\"x-ai/grok-code-fast-1\",  # 使用Grok模型\n",
    "    # base_url=\"https://openrouter.ai/api/v1\",\n",
    "    # api_key=os.getenv(\"OPENROUTER_API_KEY\"),\n",
    "    # /home/guci/aiProjects/mda/pim-compiler/react_is_all_you_need/knowledge/minimal/validation/validation_simplicity.md\n",
    "    # /home/guci/aiProjects/mda/pim-compiler/react_is_all_you_need/knowledge/minimal/validation/validation_procedural_justice.md\n",
    "    knowledge_files=[\n",
    "        \"/home/guci/aiProjects/mda/pim-compiler/react_is_all_you_need/knowledge/minimal/validation/validation_simplicity.md\"\n",
    "    ],\n",
    "    max_rounds=200\n",
    ")\n",
    "\n",
    "# 创建Agent Creator\n",
    "# 注意：现在不需要手动添加CreateAgentTool，每个Agent默认就有这个能力\n",
    "agent_creator = ReactAgentMinimal(\n",
    "    name=\"agent_creator_v2\",\n",
    "    description=\"增强版Agent创建器，能正确管理子Agent\",\n",
    "    work_dir=\"/tmp/agent_creator_v2\",\n",
    "    model= \"x-ai/grok-code-fast-1\", #\"anthropic/claude-sonnet-4\",# \"google/gemini-2.5-pro\" # \"deepseek-chat\", #\"x-ai/grok-code-fast-1\",  # 使用Grok模型\n",
    "    # base_url=\"https://openrouter.ai/api/v1\",\n",
    "    # api_key=os.getenv(\"OPENROUTER_API_KEY\"),\n",
    "    # /home/guci/aiProjects/mda/pim-compiler/react_is_all_you_need/knowledge/minimal/validation/validation_simplicity.md\n",
    "    # /home/guci/aiProjects/mda/pim-compiler/react_is_all_you_need/knowledge/minimal/validation/validation_procedural_justice.md\n",
    "    knowledge_files=[\n",
    "        \"/home/guci/aiProjects/mda/pim-compiler/react_is_all_you_need/knowledge/minimal/validation/validation_simplicity.md\",\n",
    "        \"/home/guci/aiProjects/mda/pim-compiler/react_is_all_you_need/knowledge/formalized_routing.md\"\n",
    "    ],\n",
    "    max_rounds=200\n",
    ")\n",
    "\n",
    "agent_creator.add_function(agent_coder_expert)\n",
    "\n",
    "\n",
    "agent_creator._auto_save_state()\n",
    "\n",
    "print(\"🤖 Agent Creator v2 已初始化（分形同构版）\")\n",
    "print(f\"   当前functions数量: {len(agent_creator.function_instances)}\")\n",
    "print(\"   自动包含的工具:\")\n",
    "for func in agent_creator.function_instances:\n",
    "    # 检查是否有name属性\n",
    "    if hasattr(func, 'name') and func.name == 'create_agent':\n",
    "        print(f\"     ✅ {func.name}: 创建子Agent的能力（分形同构）\")\n",
    "print(f\"   使用模型: {agent_creator.model}\")\n",
    "print(\"   默认创建的Agent也会自动有CreateAgentTool能力\")\n",
    "\n"
   ]
  },
  {
   "cell_type": "code",
   "execution_count": null,
   "metadata": {},
   "outputs": [],
   "source": [
    "x=agent_creator.execute(task=\"@learning\")\n",
    "print(x) "
   ]
  },
  {
   "cell_type": "code",
   "execution_count": null,
   "metadata": {},
   "outputs": [],
   "source": [
    "x=agent_creator.execute(task=\"我想给agent添加异步执行功能，你有什么建议吗？\")\n",
    "print(x) "
   ]
  },
  {
   "cell_type": "code",
   "execution_count": null,
   "metadata": {},
   "outputs": [],
   "source": [
    "x=agent_creator.execute(task=\"@learning\")\n",
    "print(x) "
   ]
  },
  {
   "cell_type": "code",
   "execution_count": null,
   "metadata": {},
   "outputs": [],
   "source": [
    "creator=ReactAgentMinimal.load(name='agent_creator_v2')"
   ]
  },
  {
   "cell_type": "code",
   "execution_count": null,
   "metadata": {},
   "outputs": [],
   "source": [
    "x=creator.execute(task=\"/compact\")\n",
    "print(x)"
   ]
  },
  {
   "cell_type": "code",
   "execution_count": null,
   "metadata": {},
   "outputs": [],
   "source": [
    "x=creator.execute(task=\"分析你的源代码，执行/compact后会触发保存状态吗？\")\n",
    "print(x)"
   ]
  },
  {
   "cell_type": "code",
   "execution_count": null,
   "metadata": {},
   "outputs": [],
   "source": [
    "# 使用Agent Creator创建图书管理Agent\n",
    "# Agent Creator会自己创建所需的知识文件，无需预先准备\n",
    "create_task = \"\"\"\n",
    "创建一个图书管理Agent，要求：\n",
    "能够添加、删除、查询、更新图书信息\n",
    "\n",
    "\"\"\"\n",
    "# 图书管理Agent应该使用知识驱动的方法论\n",
    "result = agent_creator.execute(task=create_task)\n",
    "display(result)\n",
    "\n",
    "# 检查function_instances列表\n",
    "print(f\"\\n当前functions数量: {len(agent_creator.function_instances)}\")"
   ]
  },
  {
   "cell_type": "code",
   "execution_count": null,
   "metadata": {},
   "outputs": [],
   "source": [
    "x=agent_creator.execute(task=\"\"\"分析你的源代码研究 为什么会出现很多 任务不存在 错误\"\"\")\n",
    "print(x)"
   ]
  },
  {
   "cell_type": "code",
   "execution_count": null,
   "metadata": {},
   "outputs": [],
   "source": [
    "import typing\n",
    "book_manager_agent:ReactAgentMinimal=typing.cast(ReactAgentMinimal, agent_creator.function_instances[-1])\n",
    "x=book_manager_agent.execute(task=\"\"\"\n",
    "添加一本图书三国演义，数据你随便构造\n",
    "\"\"\")\n",
    "print(x)"
   ]
  },
  {
   "cell_type": "code",
   "execution_count": null,
   "metadata": {},
   "outputs": [],
   "source": [
    "x=book_manager_agent.execute(task=\"\"\"\n",
    "你应该用external tool完成工作\n",
    "\"\"\")\n",
    "print(x)"
   ]
  },
  {
   "cell_type": "code",
   "execution_count": null,
   "metadata": {},
   "outputs": [],
   "source": [
    "x=book_manager_agent.execute(task=\"\"\"\n",
    "添加一本图书红楼梦，数据你随便写\n",
    "\"\"\")\n",
    "print(x)"
   ]
  },
  {
   "cell_type": "code",
   "execution_count": null,
   "metadata": {},
   "outputs": [],
   "source": [
    "x=book_manager_agent.execute(task=\"\"\"\n",
    "@learning\n",
    "\"\"\")\n",
    "print(x)"
   ]
  },
  {
   "cell_type": "markdown",
   "metadata": {},
   "source": [
    "## 2. 使用create_agent工具创建订单Agent"
   ]
  },
  {
   "cell_type": "code",
   "execution_count": null,
   "metadata": {},
   "outputs": [],
   "source": [
    "# 使用Agent Creator创建订单Agent\n",
    "# Agent Creator会根据需求自动生成知识文件\n",
    "create_task = \"\"\"\n",
    "创建一个电商订单处理Agent，名字是order_agent 需求如下：\n",
    "\n",
    "1. 管理客户会员等级（VIP、普通会员、非会员）\n",
    "2. 处理订单创建和价格计算\n",
    "3. VIP客户8折，普通会员9折，非会员原价\n",
    "4. 检查库存并生成订单号\n",
    "\n",
    "\n",
    "\"\"\"\n",
    "\n",
    "result = agent_creator.execute(task=create_task)\n",
    "display(result)\n",
    "\n",
    "# 检查function_instances列表\n",
    "print(f\"\\n当前functions数量: {len(agent_creator.function_instances)}\")"
   ]
  },
  {
   "cell_type": "code",
   "execution_count": null,
   "metadata": {},
   "outputs": [],
   "source": [
    "task = \"\"\"\n",
    "我明确说了agent的名字是order_agent \n",
    "\n",
    "为什么你创建的agent名字是order_agent_grok_code_fast__48680？\n",
    "\n",
    "\"\"\"\n",
    "\n",
    "result = agent_creator.execute(task=task)\n",
    "display(result)"
   ]
  },
  {
   "cell_type": "markdown",
   "metadata": {},
   "source": [
    "# 加载order agent"
   ]
  },
  {
   "cell_type": "code",
   "execution_count": null,
   "metadata": {},
   "outputs": [],
   "source": [
    "import typing\n",
    "order_agent=typing.cast(ReactAgentMinimal ,agent_creator.function_instances[-1])\n",
    "x=order_agent.execute(task=\"\"\"创建一个订单，数据你随便写\"\"\")\n",
    "print(x)"
   ]
  },
  {
   "cell_type": "code",
   "execution_count": 2,
   "metadata": {},
   "outputs": [
    {
     "name": "stdout",
     "output_type": "stream",
     "text": [
      "  ✅ 加载知识文件: system_prompt_minimal.md\n",
      "  ✅ 加载知识文件: validation_simplicity.md\n",
      "  ✅ 加载知识文件: fractal_agent_knowledge.md\n",
      "  ✅ 加载知识文件: learning_functions.md\n",
      "  ✅ 加载知识文件: agent_essence.md\n",
      "  ✅ 加载知识文件: agent_knowledge.md\n",
      "  ✅ 加载知识文件: experience.md\n",
      "  📚 加载Compact记忆: compact.md\n",
      "  ✨ 已加载Compact记忆到消息列表\n",
      "🚀 极简Agent已加载 [order_agent]\n",
      "  📍 API: OpenRouter\n",
      "  🤖 模型: x-ai/grok-code-fast-1\n",
      "  🧠 Compact记忆: 70k tokens触发压缩\n",
      "  ⚡ Compact记忆替代文件系统\n",
      "  📚 知识文件: 7个\n",
      "  ✨ Compact即注意力机制\n",
      "  📂 已从home目录恢复状态\n",
      "  👶 子Agent: 3个\n",
      "     级联加载中...\n",
      "  ✅ 加载知识文件: system_prompt_minimal.md\n",
      "  ✅ 加载知识文件: validation_simplicity.md\n",
      "  ✅ 加载知识文件: fractal_agent_knowledge.md\n",
      "  ✅ 加载知识文件: learning_functions.md\n",
      "  ✅ 加载知识文件: agent_essence.md\n",
      "  ✅ 加载知识文件: agent_knowledge.md\n",
      "  ✅ 加载知识文件: experience.md\n",
      "🚀 极简Agent已加载 [customer_agent]\n",
      "  📍 API: DeepSeek\n",
      "  🤖 模型: deepseek-chat\n",
      "  🧠 Compact记忆: 70k tokens触发压缩\n",
      "  ⚡ Compact记忆替代文件系统\n",
      "  📚 知识文件: 7个\n",
      "  ✨ Compact即注意力机制\n",
      "  ➕ 已添加函数: customer_agent\n",
      "     ✅ customer_agent 已加载并添加为工具\n",
      "  ✅ 加载知识文件: system_prompt_minimal.md\n",
      "  ✅ 加载知识文件: validation_simplicity.md\n",
      "  ✅ 加载知识文件: fractal_agent_knowledge.md\n",
      "  ✅ 加载知识文件: learning_functions.md\n",
      "  ✅ 加载知识文件: agent_essence.md\n",
      "  ✅ 加载知识文件: agent_knowledge.md\n",
      "  ✅ 加载知识文件: experience.md\n",
      "🚀 极简Agent已加载 [product_agent]\n",
      "  📍 API: DeepSeek\n",
      "  🤖 模型: deepseek-chat\n",
      "  🧠 Compact记忆: 70k tokens触发压缩\n",
      "  ⚡ Compact记忆替代文件系统\n",
      "  📚 知识文件: 7个\n",
      "  ✨ Compact即注意力机制\n",
      "  ➕ 已添加函数: product_agent\n",
      "     ✅ product_agent 已加载并添加为工具\n",
      "  ✅ 加载知识文件: system_prompt_minimal.md\n",
      "  ✅ 加载知识文件: validation_simplicity.md\n",
      "  ✅ 加载知识文件: fractal_agent_knowledge.md\n",
      "  ✅ 加载知识文件: learning_functions.md\n",
      "  ✅ 加载知识文件: agent_essence.md\n",
      "  ✅ 加载知识文件: agent_knowledge.md\n",
      "  ✅ 加载知识文件: experience.md\n",
      "🚀 极简Agent已加载 [discount_agent]\n",
      "  📍 API: DeepSeek\n",
      "  🤖 模型: deepseek-chat\n",
      "  🧠 Compact记忆: 70k tokens触发压缩\n",
      "  ⚡ Compact记忆替代文件系统\n",
      "  📚 知识文件: 7个\n",
      "  ✨ Compact即注意力机制\n",
      "  ➕ 已添加函数: discount_agent\n",
      "     ✅ discount_agent 已加载并添加为工具\n"
     ]
    }
   ],
   "source": [
    "order_agent=ReactAgentMinimal.load(name='order_agent')"
   ]
  },
  {
   "cell_type": "code",
   "execution_count": 3,
   "metadata": {},
   "outputs": [
    {
     "data": {
      "text/plain": [
       "[ExecutionContext(name='context'),\n",
       " ReadFileTool(name='read_file'),\n",
       " WriteFileTool(name='write_file'),\n",
       " AppendFileTool(name='append_file'),\n",
       " ExecuteCommandTool(name='execute_command'),\n",
       " SearchTool(name='search'),\n",
       " ExecuteCommandExtended(name='execute_command_ext'),\n",
       " EditFileTool(name='edit_file'),\n",
       " InsertLineTool(name='insert_line'),\n",
       " DeleteLinesTool(name='delete_lines'),\n",
       " NewsSearchTool(name='search_news'),\n",
       " CreateAgentTool(name='create_agent'),\n",
       " ReactAgentMinimal(name='order_agent'),\n",
       " ReactAgentMinimal(name='customer_agent'),\n",
       " ReactAgentMinimal(name='product_agent'),\n",
       " ReactAgentMinimal(name='discount_agent')]"
      ]
     },
     "execution_count": 3,
     "metadata": {},
     "output_type": "execute_result"
    }
   ],
   "source": [
    "order_agent.function_instances"
   ]
  },
  {
   "cell_type": "code",
   "execution_count": 5,
   "metadata": {},
   "outputs": [
    {
     "name": "stdout",
     "output_type": "stream",
     "text": [
      "\n",
      "[order_agent] 执行任务...\n",
      "[order_agent] 📝 任务: \n",
      "\n",
      "我修改了/home/guci/robot_projects/orderSystem/design_doc.md\n",
      "\n",
      "...\n",
      "[order_agent] ⏰ 时间: 2025-09-27 04:49:38.461089\n",
      "[order_agent] ============================================================\n",
      "\n",
      "[order_agent] 🤔 思考第1轮...\n",
      "\n",
      "[order_agent] 🔧 调用工具: read_file\n",
      "   [order_agent] 📝 file_path: /home/guci/robot_projects/orderSystem/design_doc.md\n",
      "   [order_agent] ✅ 结果: # 设计文档 (Design Document)\n",
      "\n",
      "## 领域模型 (Domain Model)\n",
      "\n",
      "### 实体定义\n",
      "\n",
      "#### Customer (客户)\n",
      "- **customer_id**: 客户ID (字符串，uuid)\n",
      "- **name**: 客户姓名 (字符串，如\"张三\")\n",
      "- **lev\n",
      "\n",
      "[order_agent] 🤔 思考第2轮...\n",
      "[order_agent] 💭 思考: 我已经读取了修改后的 `/home/guci/robot_projects/orderSystem/design_doc.md` 文件。文档看起来完整且结构清晰，包含了完整的领域模型和服务模型定义。\n",
      "\n",
      "**文档概览**：\n",
      "- **领域模型**：定义了Customer、Product、Order三个实体，包含业务规则（会员折扣、库存检查、订单号生成）和JSON持久化策略\n",
      "- **服务模型**：定义了...\n",
      "\n",
      "[order_agent] ✅ 任务完成（第2轮）\n",
      "我已经读取了修改后的 `/home/guci/robot_projects/orderSystem/design_doc.md` 文件。文档看起来完整且结构清晰，包含了完整的领域模型和服务模型定义。\n",
      "\n",
      "**文档概览**：\n",
      "- **领域模型**：定义了Customer、Product、Order三个实体，包含业务规则（会员折扣、库存检查、订单号生成）和JSON持久化策略\n",
      "- **服务模型**：定义了OrderService、CustomerService、ProductService、DiscountService四个服务接口，包含完整的CRUD操作和业务逻辑\n",
      "\n",
      "如果您希望我做以下任何操作，请告诉我：\n",
      "1. **同步到子Agent**：将更新后的设计文档同步到customer_agent、product_agent、discount_agent的知识中\n",
      "2. **更新我的能力定义**：修改我的agent_knowledge.md以反映最新的设计变更\n",
      "3. **验证一致性**：检查设计文档与现有代码、工具的一致性\n",
      "4. **生成实现代码**：基于新设计生成或更新相关的Python代码\n",
      "\n",
      "请告诉我您的具体需求，我会立即执行！\n"
     ]
    }
   ],
   "source": [
    "x=order_agent.execute(task=\"\"\"\n",
    "\n",
    "我修改了/home/guci/robot_projects/orderSystem/design_doc.md\n",
    "\n",
    "\"\"\") #你的work_dir是什么？如何通过你的符号主义接口添加一个客户  刘德华？\n",
    "print(x)"
   ]
  },
  {
   "cell_type": "code",
   "execution_count": null,
   "metadata": {},
   "outputs": [
    {
     "name": "stdout",
     "output_type": "stream",
     "text": [
      "\n",
      "[order_agent] 执行任务...\n",
      "[order_agent] 📝 任务: \n",
      "@memory 用户说grok模型是指 x-ai/grok-code-fast-1\n",
      "...\n",
      "[order_agent] ⏰ 时间: 2025-09-27 05:31:22.209227\n",
      "[order_agent] ============================================================\n",
      "\n",
      "[order_agent] 🤔 思考第1轮...\n",
      "\n",
      "[order_agent] 🔧 调用工具: context\n",
      "   [order_agent] 📝 action: init_project\n",
      "   [order_agent] 📝 goal: 执行@memory函数记录用户教育\n",
      "   [order_agent] ✅ 结果: ✅ 项目已初始化: 执行@memory函数记录用户教育\n",
      "\n",
      "[order_agent] 🔧 调用工具: context\n",
      "   [order_agent] 📝 action: add_tasks\n",
      "   [order_agent] 📝 tasks: ['读取现有教育内容', '解析用户指令', '结构化教育内容', '更新agent_knowledge.md', '报告结果']\n",
      "   [order_agent] ✅ 结果: ✅ 添加了 5 个任务\n",
      "\n",
      "[order_agent] 🔧 调用工具: context\n",
      "   [order_agent] 📝 action: start_task\n",
      "   [order_agent] 📝 task: 读取现有教育内容\n",
      "   [order_agent] ✅ 结果: ✅ 任务 读取现有教育内容 标记为执行中\n",
      "\n",
      "[order_agent] 🔧 调用工具: read_file\n",
      "   [order_agent] 📝 file_path: /home/guci/.agent/order_agent/agent_knowledge.md\n",
      "   [order_agent] ✅ 结果: # order_agent 能力定义\n",
      "\n",
      "创建时间: 2025-09-26T04:36:23.597244\n",
      "\n",
      "## 我的能力\n",
      "\n",
      "### 领域驱动设计能力\n",
      "- **领域模型设计**: 基于design_doc.md设计Customer、Product、Order实体，包含完整的业务规则和数据持久化策略\n",
      "\n",
      "\n",
      "[order_agent] 🔧 调用工具: context\n",
      "   [order_agent] 📝 action: complete_task\n",
      "   [order_agent] 📝 task: 读取现有教育内容\n",
      "   [order_agent] 📝 result: 已读取agent_knowledge.md，包含现有教育记录\n",
      "   [order_agent] ✅ 结果: ✅ 任务 读取现有教育内容 已完成\n",
      "\n",
      "[order_agent] 🔧 调用工具: context\n",
      "   [order_agent] 📝 action: start_task\n",
      "   [order_agent] 📝 task: 解析用户指令\n",
      "   [order_agent] ✅ 结果: ✅ 任务 解析用户指令 标记为执行中\n",
      "\n",
      "[order_agent] 🔧 调用工具: context\n",
      "   [order_agent] 📝 action: complete_task\n",
      "   [order_agent] 📝 task: 解析用户指令\n",
      "   [order_agent] 📝 result: 用户澄清grok模型的具体含义：x-ai/grok-code-fast-1\n",
      "   [order_agent] ✅ 结果: ✅ 任务 解析用户指令 已完成\n",
      "\n",
      "[order_agent] 🔧 调用工具: context\n",
      "   [order_agent] 📝 action: start_task\n",
      "   [order_agent] 📝 task: 结构化教育内容\n",
      "   [order_agent] ✅ 结果: ✅ 任务 结构化教育内容 标记为执行中\n",
      "\n",
      "[order_agent] 🔧 调用工具: context\n",
      "   [order_agent] 📝 action: complete_task\n",
      "   [order_agent] 📝 task: 结构化教育内容\n",
      "   [order_agent] 📝 result: 已结构化用户教育：grok模型指x-ai/grok-code-fast-1\n",
      "   [order_agent] ✅ 结果: ✅ 任务 结构化教育内容 已完成\n",
      "\n",
      "[order_agent] 🔧 调用工具: context\n",
      "   [order_agent] 📝 action: start_task\n",
      "   [order_agent] 📝 task: 更新agent_knowledge.md\n",
      "   [order_agent] ✅ 结果: ✅ 任务 更新agent_knowledge.md 标记为执行中\n",
      "\n",
      "[order_agent] 🔧 调用工具: append_file\n",
      "   [order_agent] 📝 file_path: /home/guci/.agent/order_agent/agent_knowledge.md\n",
      "   [order_agent] 📝 content: ### 2025-09-27 04:45 [@memory]\n",
      "- 用户澄清：grok模型是指 x-ai/grok-code-fast-1，这是专为代码优化的大型语言模型\n",
      "   [order_agent] ✅ 结果: 内容已追加到: /home/guci/.agent/order_agent/agent_knowledge.md\n",
      "\n",
      "[order_agent] 🔧 调用工具: context\n",
      "   [order_agent] 📝 action: complete_task\n",
      "   [order_agent] 📝 task: 更新agent_knowledge.md\n",
      "   [order_agent] 📝 result: 已将用户教育添加到agent_knowledge.md\n",
      "   [order_agent] ✅ 结果: ✅ 任务 更新agent_knowledge.md 已完成\n",
      "\n",
      "[order_agent] 🔧 调用工具: context\n",
      "   [order_agent] 📝 action: start_task\n",
      "   [order_agent] 📝 task: 报告结果\n",
      "   [order_agent] ✅ 结果: ✅ 任务 报告结果 标记为执行中\n",
      "\n",
      "[order_agent] 🔧 调用工具: context\n",
      "   [order_agent] 📝 action: complete_task\n",
      "   [order_agent] 📝 task: 报告结果\n",
      "   [order_agent] 📝 result: 用户教育已记录完成\n",
      "   [order_agent] ✅ 结果: ✅ 任务 报告结果 已完成\n",
      "\n",
      "[order_agent] 🤔 思考第2轮...\n",
      "[order_agent] 💭 思考: ✅ @memory 执行完成！\n",
      "\n",
      "## 用户教育记录结果\n",
      "\n",
      "**记录内容**：\n",
      "- **时间**: 2025-09-27 04:45 [@memory]\n",
      "- **教育内容**: 用户澄清：grok模型是指 x-ai/grok-code-fast-1，这是专为代码优化的大型语言模型\n",
      "\n",
      "这个重要教育已永久记录到 `agent_knowledge.md` 中，成为我的后天教育知识。\n",
      "\n",
      "今后当提到\"gro...\n",
      "\n",
      "[order_agent] ✅ 任务完成（第2轮）\n",
      "✅ @memory 执行完成！\n",
      "\n",
      "## 用户教育记录结果\n",
      "\n",
      "**记录内容**：\n",
      "- **时间**: 2025-09-27 04:45 [@memory]\n",
      "- **教育内容**: 用户澄清：grok模型是指 x-ai/grok-code-fast-1，这是专为代码优化的大型语言模型\n",
      "\n",
      "这个重要教育已永久记录到 `agent_knowledge.md` 中，成为我的后天教育知识。\n",
      "\n",
      "今后当提到\"grok模型\"时，我会自动理解为 `x-ai/grok-code-fast-1`，确保模型选择的一致性！🎯\n"
     ]
    }
   ],
   "source": [
    "x=order_agent.execute(task=\"\"\"\n",
    "\n",
    "\"\"\")\n",
    "print(x)"
   ]
  },
  {
   "cell_type": "code",
   "execution_count": 6,
   "metadata": {},
   "outputs": [
    {
     "name": "stdout",
     "output_type": "stream",
     "text": [
      "\n",
      "[order_agent] 执行任务...\n",
      "[order_agent] 📝 任务: /compact...\n",
      "[order_agent] ⏰ 时间: 2025-09-27 04:40:39.320919\n",
      "[order_agent] ============================================================\n",
      "\n",
      "🧠 手动触发Compact压缩...\n",
      "  压缩前: 32 条消息, 约 43233 tokens\n",
      "\n",
      "🧠 执行Compact压缩...\n",
      "  ✅ 压缩完成，保留关键信息\n",
      "  压缩后: 3 条消息, 约 20981 tokens\n",
      "  压缩率: 51.5%\n",
      "  💾 已保存到: /home/guci/.agent/order_agent/compact.md\n",
      "  💾 状态已保存到: /home/guci/.agent/order_agent/state.json\n",
      "[order_agent] ⚡ 系统命令执行\n",
      "✨ Compact压缩完成！32条消息 → 3条消息\n"
     ]
    }
   ],
   "source": [
    "x=order_agent.execute(task=\"\"\"/compact\"\"\")\n",
    "print(x)"
   ]
  },
  {
   "cell_type": "code",
   "execution_count": null,
   "metadata": {},
   "outputs": [],
   "source": [
    "x=order_agent.execute(task=\"\"\"/order_tool.py add_customer 邱淑贞 普通会员\"\"\")\n",
    "print(x)"
   ]
  },
  {
   "cell_type": "code",
   "execution_count": null,
   "metadata": {},
   "outputs": [],
   "source": [
    "x=order_agent.execute(task=\"\"\"/compact\"\"\")\n",
    "print(x)"
   ]
  },
  {
   "cell_type": "code",
   "execution_count": null,
   "metadata": {},
   "outputs": [],
   "source": [
    "x=order_agent.execute(task=\"\"\"你应该创建一个子agent管理库存\"\"\")\n",
    "print(x)"
   ]
  },
  {
   "cell_type": "code",
   "execution_count": null,
   "metadata": {},
   "outputs": [],
   "source": [
    "x=order_agent.execute(task=\"\"\"调用库存agent，列出所有库存记录\"\"\")\n",
    "print(x)"
   ]
  },
  {
   "cell_type": "code",
   "execution_count": null,
   "metadata": {},
   "outputs": [],
   "source": [
    "inventory_agent=typing.cast(ReactAgentMinimal ,order_agent.function_instances[-1])\n",
    "x=inventory_agent.execute(task=\"\"\"你应该使用external tool完成工作\"\"\")\n",
    "print(x)"
   ]
  },
  {
   "cell_type": "code",
   "execution_count": null,
   "metadata": {},
   "outputs": [],
   "source": [
    "x=inventory_agent.execute(task=\"\"\"/compact\"\"\")\n",
    "print(x)"
   ]
  },
  {
   "cell_type": "code",
   "execution_count": null,
   "metadata": {},
   "outputs": [],
   "source": [
    "# 通过Agent Creator调用创建的订单Agent\n",
    "test_task = \"\"\"\n",
    "调用订单Agent处理以下任务：\n",
    "为VIP客户张三创建订单，购买1000元的商品。\n",
    "计算折扣后的价格。\n",
    "\"\"\"\n",
    "\n",
    "display(\"### 测试订单Agent\")\n",
    "result = agent_creator.execute(task=test_task)\n",
    "display(result)"
   ]
  },
  {
   "cell_type": "markdown",
   "metadata": {},
   "source": [
    "## 4. 创建客服Agent并测试协作"
   ]
  },
  {
   "cell_type": "code",
   "execution_count": null,
   "metadata": {},
   "outputs": [],
   "source": [
    "# 创建客服Agent\n",
    "# Agent Creator会自动生成知识文件，无需手动创建\n",
    "create_customer_task = \"\"\"\n",
    "创建一个客户服务Agent，需求如下：\n",
    "\n",
    "1. 管理客户信息和会员等级\n",
    "2. 示例数据：\n",
    "   - 张三：VIP会员\n",
    "   - 李四：普通会员  \n",
    "   - 王五：非会员\n",
    "3. 提供会员等级查询服务\n",
    "\n",
    "请创建这个Agent，不要传递model参数（使用默认的Grok）。\n",
    "\"\"\"\n",
    "\n",
    "display(\"### 创建客服Agent\")\n",
    "result = agent_creator.execute(task=create_customer_task)\n",
    "display(result)\n",
    "\n",
    "print(f\"\\n当前functions数量: {len(agent_creator.function_instances)}\")\n",
    "print(\"新增的Agent:\")\n",
    "for func in agent_creator.function_instances:\n",
    "    if hasattr(func, '__class__') and 'ReactAgentMinimal' in func.__class__.__name__:\n",
    "        print(f\"  🤖 {func.name}: {func.description}\")"
   ]
  },
  {
   "cell_type": "markdown",
   "metadata": {},
   "source": [
    "## 5. Agent协作演示"
   ]
  },
  {
   "cell_type": "code",
   "execution_count": null,
   "metadata": {},
   "outputs": [],
   "source": [
    "# 协作任务：查询客户等级并创建订单\n",
    "collaboration_task = \"\"\"\n",
    "执行以下协作任务：\n",
    "1. 调用客服Agent查询李四的会员等级\n",
    "2. 调用订单Agent为李四创建2000元的订单\n",
    "3. 根据会员等级计算最终价格\n",
    "\"\"\"\n",
    "\n",
    "display(Markdown(\"### Agent协作演示\"))\n",
    "result = agent_creator.execute(task=collaboration_task)\n",
    "display(Markdown(result))\n",
    "\n",
    "# 显示所有Agent\n",
    "print(\"\\n=\" * 50)\n",
    "print(\"所有已创建的Agent:\")\n",
    "for func in agent_creator.function_instances:\n",
    "    # 判断是Agent还是工具\n",
    "    if hasattr(func, '__class__') and 'ReactAgentMinimal' in func.__class__.__name__:\n",
    "        print(f\"  🤖 {func.name}: {func.description}\")\n",
    "    else:\n",
    "        print(f\"  🔧 {func.name}: {func.description}\")"
   ]
  },
  {
   "cell_type": "markdown",
   "metadata": {},
   "source": [
    "## 6. 直接调用子Agent（验证它们确实在functions中）"
   ]
  },
  {
   "cell_type": "code",
   "execution_count": null,
   "metadata": {},
   "outputs": [],
   "source": [
    "# 直接从function_instances列表中获取Agent并调用\n",
    "print(\"直接调用子Agent:\")\n",
    "print(\"=\" * 50)\n",
    "\n",
    "for func in agent_creator.function_instances:\n",
    "    # 检查是否是ReactAgentMinimal实例（即Agent）\n",
    "    if hasattr(func, '__class__') and 'ReactAgentMinimal' in func.__class__.__name__:\n",
    "        print(f\"\\n调用 {func.name}:\")\n",
    "        # 直接调用Agent\n",
    "        try:\n",
    "            result = func.execute(task=\"介绍你自己和你的功能\")\n",
    "            print(result[:200] + \"...\" if len(result) > 200 else result)\n",
    "        except Exception as e:\n",
    "            print(f\"调用失败: {e}\")"
   ]
  },
  {
   "cell_type": "markdown",
   "metadata": {},
   "source": [
    "## 总结\n",
    "\n",
    "这个演示展示了分形同构的Agent系统：\n",
    "\n",
    "### 核心特性（分形同构）\n",
    "\n",
    "1. **每个Agent都是Creator**：\n",
    "   - 自动拥有CreateAgentTool能力\n",
    "   - 自动加载agent_creator_knowledge知识\n",
    "   - 理解自己的双重身份（Worker + Creator）\n",
    "\n",
    "2. **无需手动配置**：\n",
    "   - 不需要手动添加CreateAgentTool\n",
    "   - 不需要手动传递creator知识\n",
    "   - 分形能力通过代码结构内置\n",
    "\n",
    "3. **无限递归能力**：\n",
    "   - Agent Creator可以创建子Agent\n",
    "   - 子Agent也能创建自己的子Agent\n",
    "   - 形成无限的分形结构\n",
    "\n",
    "### 决策原则\n",
    "每个Agent都知道：\n",
    "- **简单任务** → 自己直接完成（Worker模式）\n",
    "- **复杂任务** → 创建专门的子Agent（Creator模式）\n",
    "- **重复任务** → 创建可复用的Agent\n",
    "- **并行任务** → 创建多个Agent并行处理\n",
    "\n",
    "### 实现细节\n",
    "- ReactAgentMinimal自动添加CreateAgentTool\n",
    "- ReactAgentMinimal自动加载agent_creator_knowledge.md\n",
    "- CreateAgentTool自动为新Agent添加相同能力\n",
    "- 真正实现了\"每个部分都包含整体\"的分形原理"
   ]
  }
 ],
 "metadata": {
  "kernelspec": {
   "display_name": "Python 3",
   "language": "python",
   "name": "python3"
  },
  "language_info": {
   "codemirror_mode": {
    "name": "ipython",
    "version": 3
   },
   "file_extension": ".py",
   "mimetype": "text/x-python",
   "name": "python",
   "nbconvert_exporter": "python",
   "pygments_lexer": "ipython3",
   "version": "3.10.12"
  }
 },
 "nbformat": 4,
 "nbformat_minor": 4
}
