{
 "cells": [
  {
   "cell_type": "markdown",
   "metadata": {},
   "source": [
    "# ReactAgentDebugger Notebook 演示\n",
    "\n",
    "这个 notebook 演示如何在 Jupyter 环境中使用调试器，包括智能分析功能。"
   ]
  },
  {
   "cell_type": "markdown",
   "metadata": {},
   "source": [
    "## 1. 环境准备"
   ]
  },
  {
   "cell_type": "code",
   "execution_count": null,
   "metadata": {},
   "outputs": [],
   "source": [
    "# 安装必要的包\n",
    "!pip install google-generativeai ipywidgets -q"
   ]
  },
  {
   "cell_type": "code",
   "execution_count": null,
   "metadata": {},
   "outputs": [],
   "source": [
    "import os\n",
    "import sys\n",
    "from pathlib import Path\n",
    "\n",
    "# 添加项目路径\n",
    "project_root = Path(\".\").resolve().parent\n",
    "sys.path.insert(0, str(project_root))\n",
    "\n",
    "# 设置 API 密钥\n",
    "# 方式1: 直接设置（不推荐）\n",
    "# os.environ[\"GEMINI_API_KEY\"] = \"your-api-key-here\"\n",
    "\n",
    "# 方式2: 从 .env 文件读取（推荐）\n",
    "from dotenv import load_dotenv\n",
    "load_dotenv()\n",
    "\n",
    "# 检查 API 密钥\n",
    "if not os.getenv(\"GEMINI_API_KEY\"):\n",
    "    print(\"⚠️ 请设置 GEMINI_API_KEY 环境变量\")\n",
    "else:\n",
    "    print(\"✅ Gemini API 密钥已设置\")"
   ]
  },
  {
   "cell_type": "markdown",
   "metadata": {},
   "source": [
    "## 2. 创建 Agent 和调试器"
   ]
  },
  {
   "cell_type": "code",
   "execution_count": null,
   "metadata": {},
   "outputs": [],
   "source": [
    "from react_agent import GenericReactAgent, ReactAgentConfig, MemoryLevel\n",
    "from react_agent_debugger_notebook import NotebookReactAgentDebugger, create_notebook_debugger\n",
    "from react_agent_debugger import StepBreakpoint, StepType, ConditionalBreakpoint\n",
    "\n",
    "# 创建 Agent\n",
    "config = ReactAgentConfig(\n",
    "    work_dir=\"output/notebook_debug\",\n",
    "    memory_level=MemoryLevel.SMART,\n",
    "    llm_model=\"deepseek-chat\",\n",
    "    llm_temperature=0,\n",
    "    specification=\"Notebook 调试演示 Agent\"\n",
    ")\n",
    "\n",
    "agent = GenericReactAgent(config, name=\"notebook_demo\")\n",
    "\n",
    "# 创建调试器\n",
    "debugger = create_notebook_debugger(agent)\n",
    "\n",
    "print(\"✅ Agent 和调试器创建成功\")"
   ]
  },
  {
   "cell_type": "markdown",
   "metadata": {},
   "source": [
    "## 3. 设置断点"
   ]
  },
  {
   "cell_type": "code",
   "execution_count": null,
   "metadata": {},
   "outputs": [],
   "source": [
    "# 添加各种类型的断点\n",
    "\n",
    "# 1. 步骤断点 - 在 THINK 步骤暂停\n",
    "debugger.add_breakpoint(StepBreakpoint(\"bp_think\", StepType.THINK))\n",
    "\n",
    "# 2. 条件断点 - 当创建 Python 文件时暂停\n",
    "debugger.add_breakpoint(\n",
    "    ConditionalBreakpoint(\n",
    "        \"bp_python_file\",\n",
    "        lambda ctx: any(\n",
    "            tc.get(\"name\") == \"write_file\" and \n",
    "            tc.get(\"args\", {}).get(\"file_path\", \"\").endswith(\".py\")\n",
    "            for tc in ctx.get(\"tool_calls\", [])\n",
    "        ),\n",
    "        \"创建 Python 文件\"\n",
    "    )\n",
    ")\n",
    "\n",
    "# 3. 条件断点 - 执行超过10步时暂停\n",
    "debugger.add_breakpoint(\n",
    "    ConditionalBreakpoint(\n",
    "        \"bp_many_steps\",\n",
    "        lambda ctx: len(debugger.execution_history) > 10,\n",
    "        \"执行超过10步\"\n",
    "    )\n",
    ")\n",
    "\n",
    "# 列出所有断点\n",
    "print(\"已设置的断点：\")\n",
    "for bp in debugger.list_breakpoints():\n",
    "    print(f\"- {bp['id']}: {bp['type']} - {bp.get('condition', bp.get('step_type', ''))}\")"
   ]
  },
  {
   "cell_type": "markdown",
   "metadata": {},
   "source": [
    "## 4. 创建控制面板"
   ]
  },
  {
   "cell_type": "code",
   "execution_count": null,
   "metadata": {},
   "outputs": [],
   "source": [
    "# 创建交互式控制面板\n",
    "control_panel = debugger.create_control_panel()\n",
    "display(control_panel)"
   ]
  },
  {
   "cell_type": "markdown",
   "metadata": {},
   "source": [
    "## 5. 执行调试任务\n",
    "\n",
    "运行下面的单元格开始调试会话。当触发断点时：\n",
    "1. 使用控制面板的按钮来控制执行\n",
    "2. 点击「分析」按钮使用 Gemini 分析当前状态\n",
    "3. 查看输出了解执行情况"
   ]
  },
  {
   "cell_type": "code",
   "execution_count": null,
   "metadata": {},
   "outputs": [],
   "source": [
    "# 执行一个会触发多个断点的任务\n",
    "debugger.execute_task(\"\"\"\n",
    "请完成以下任务：\n",
    "1. 创建一个 calculator.py 文件，实现基本的加减乘除功能\n",
    "2. 创建一个 test_calculator.py 文件，编写测试用例\n",
    "3. 尝试运行测试（可能会失败）\n",
    "4. 如果测试失败，分析原因并修复\n",
    "5. 创建 README.md 说明文件\n",
    "\"\"\")"
   ]
  },
  {
   "cell_type": "markdown",
   "metadata": {},
   "source": [
    "## 6. 查看分析历史"
   ]
  },
  {
   "cell_type": "code",
   "execution_count": null,
   "metadata": {},
   "outputs": [],
   "source": [
    "# 查看所有分析结果\n",
    "print(f\"共进行了 {len(debugger.analysis_results)} 次分析\\n\")\n",
    "\n",
    "for i, result in enumerate(debugger.analysis_results):\n",
    "    print(f\"\\n--- 分析 #{i+1} ---\")\n",
    "    print(f\"时间: {result.get('timestamp', 'N/A')}\")\n",
    "    print(f\"发现 Bug: {result.get('has_bug', 'N/A')}\")\n",
    "    if result.get('has_bug'):\n",
    "        print(f\"严重程度: {result.get('severity', 'N/A')}\")\n",
    "        print(f\"Bug 类型: {result.get('bug_type', 'N/A')}\")\n",
    "        print(f\"描述: {result.get('description', 'N/A')}\")\n",
    "        print(f\"解决方案: {result.get('solution', 'N/A')}\")"
   ]
  },
  {
   "cell_type": "markdown",
   "metadata": {},
   "source": [
    "## 7. 手动触发分析\n",
    "\n",
    "你也可以在任何时候手动调用分析功能："
   ]
  },
  {
   "cell_type": "code",
   "execution_count": null,
   "metadata": {},
   "outputs": [],
   "source": [
    "# 手动分析当前状态\n",
    "analysis_result = debugger.analysis()\n",
    "\n",
    "# 结果已经在上面的输出中显示\n",
    "print(\"\\n分析完成！\")"
   ]
  },
  {
   "cell_type": "markdown",
   "metadata": {},
   "source": [
    "## 8. 高级用法：自定义分析条件"
   ]
  },
  {
   "cell_type": "code",
   "execution_count": null,
   "metadata": {},
   "outputs": [],
   "source": [
    "# 创建一个自动分析的断点\n",
    "def auto_analyze_on_error(ctx):\n",
    "    \"\"\"当检测到错误时自动触发分析\"\"\"\n",
    "    if \"error\" in str(ctx.get(\"last_message\", \"\")).lower():\n",
    "        print(\"\\n🚨 检测到错误，自动触发分析...\")\n",
    "        # 注意：这里需要在断点触发后手动调用分析\n",
    "        return True\n",
    "    return False\n",
    "\n",
    "debugger.add_breakpoint(\n",
    "    ConditionalBreakpoint(\n",
    "        \"bp_auto_analyze\",\n",
    "        auto_analyze_on_error,\n",
    "        \"错误时自动分析\"\n",
    "    )\n",
    ")\n",
    "\n",
    "print(\"✅ 已添加自动分析断点\")"
   ]
  },
  {
   "cell_type": "markdown",
   "metadata": {},
   "source": [
    "## 9. 导出分析报告"
   ]
  },
  {
   "cell_type": "code",
   "execution_count": null,
   "metadata": {},
   "outputs": [],
   "source": [
    "import json\n",
    "from datetime import datetime\n",
    "\n",
    "# 生成分析报告\n",
    "report = {\n",
    "    \"report_time\": datetime.now().isoformat(),\n",
    "    \"agent_name\": debugger.agent.name,\n",
    "    \"total_steps\": len(debugger.execution_history),\n",
    "    \"total_analyses\": len(debugger.analysis_results),\n",
    "    \"bugs_found\": sum(1 for r in debugger.analysis_results if r.get(\"has_bug\")),\n",
    "    \"analyses\": debugger.analysis_results\n",
    "}\n",
    "\n",
    "# 保存报告\n",
    "report_path = Path(\"output/notebook_debug/analysis_report.json\")\n",
    "report_path.parent.mkdir(parents=True, exist_ok=True)\n",
    "with open(report_path, \"w\", encoding=\"utf-8\") as f:\n",
    "    json.dump(report, f, ensure_ascii=False, indent=2)\n",
    "\n",
    "print(f\"✅ 分析报告已保存到: {report_path}\")\n",
    "print(f\"\\n报告概要：\")\n",
    "print(f\"- 总执行步数: {report['total_steps']}\")\n",
    "print(f\"- 分析次数: {report['total_analyses']}\")\n",
    "print(f\"- 发现的 Bug 数: {report['bugs_found']}\")"
   ]
  },
  {
   "cell_type": "markdown",
   "metadata": {},
   "source": [
    "## 10. 清理资源"
   ]
  },
  {
   "cell_type": "code",
   "execution_count": null,
   "metadata": {},
   "outputs": [],
   "source": [
    "# 清理工作目录（可选）\n",
    "import shutil\n",
    "\n",
    "if input(\"是否清理工作目录？(y/n): \").lower() == 'y':\n",
    "    shutil.rmtree(\"output/notebook_debug\", ignore_errors=True)\n",
    "    print(\"✅ 工作目录已清理\")\n",
    "else:\n",
    "    print(\"工作目录保留\")"
   ]
  }
 ],
 "metadata": {
  "kernelspec": {
   "display_name": "Python 3",
   "language": "python",
   "name": "python3"
  },
  "language_info": {
   "codemirror_mode": {
    "name": "ipython",
    "version": 3
   },
   "file_extension": ".py",
   "mimetype": "text/x-python",
   "name": "python",
   "nbconvert_exporter": "python",
   "pygments_lexer": "ipython3",
   "version": "3.9.0"
  }
 },
 "nbformat": 4,
 "nbformat_minor": 4
}