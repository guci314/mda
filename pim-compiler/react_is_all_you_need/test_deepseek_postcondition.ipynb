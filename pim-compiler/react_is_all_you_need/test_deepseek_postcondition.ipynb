{
 "cells": [
  {
   "cell_type": "markdown",
   "metadata": {},
   "source": [
    "# 测试DeepSeek v3的后置断言验证\n",
    "\n",
    "使用DeepSeek替代Kimi，测试知识驱动的后置断言验证"
   ]
  },
  {
   "cell_type": "code",
   "execution_count": null,
   "metadata": {},
   "outputs": [],
   "source": [
    "import os\n",
    "import sys\n",
    "from pathlib import Path\n",
    "import shutil\n",
    "\n",
    "# 添加项目路径\n",
    "sys.path.insert(0, str(Path.cwd()))\n",
    "\n",
    "from core.react_agent import GenericReactAgent, ReactAgentConfig, MemoryLevel\n",
    "\n",
    "# 设置工作目录\n",
    "work_dir = \"/home/guci/aiProjects/mda/pim-compiler/react_is_all_you_need/output/deepseek_test\"\n",
    "\n",
    "# 清空工作目录\n",
    "if os.path.exists(work_dir):\n",
    "    shutil.rmtree(work_dir)\n",
    "os.makedirs(work_dir)\n",
    "\n",
    "print(f\"工作目录: {work_dir}\")"
   ]
  },
  {
   "cell_type": "markdown",
   "metadata": {},
   "source": [
    "## 配置DeepSeek v3"
   ]
  },
  {
   "cell_type": "code",
   "execution_count": null,
   "metadata": {},
   "outputs": [],
   "source": [
    "# DeepSeek v3配置\n",
    "deepseek_config = {\n",
    "    \"llm_model\": \"deepseek-chat\",\n",
    "    \"llm_base_url\": \"https://api.deepseek.com/v1\",\n",
    "    \"llm_api_key_env\": \"DEEPSEEK_API_KEY\",\n",
    "    \"llm_temperature\": 0\n",
    "}\n",
    "\n",
    "print(f\"使用LLM: {deepseek_config['llm_model']}\")"
   ]
  },
  {
   "cell_type": "markdown",
   "metadata": {},
   "source": [
    "## 测试PSM生成的后置断言验证"
   ]
  },
  {
   "cell_type": "code",
   "execution_count": null,
   "metadata": {},
   "outputs": [],
   "source": [
    "# 创建PSM生成Agent\n",
    "config = ReactAgentConfig(\n",
    "    work_dir=work_dir,\n",
    "    memory_level=MemoryLevel.SMART,\n",
    "    knowledge_files=[\"knowledge/mda/pim_to_psm_knowledge.md\"],\n",
    "    enable_project_exploration=False,\n",
    "    **deepseek_config\n",
    ")\n",
    "\n",
    "psm_agent = GenericReactAgent(config, name=\"psm_generation_agent\")\n",
    "psm_agent.interface = \"\"\"PSM生成专家\n",
    "\n",
    "# 重要提醒\n",
    "根据knowledge文件，生成PSM必须包含5个核心章节\n",
    "\"\"\"\n",
    "\n",
    "# 执行任务\n",
    "result = psm_agent.execute_task(\"\"\"\n",
    "# PIM文件\n",
    "/home/guci/aiProjects/mda/pim-compiler/examples/blog.md\n",
    "\n",
    "# 任务\n",
    "根据上面的PIM生成PSM，文件名是blog_psm.md\n",
    "\n",
    "# 成功判定条件\n",
    "1. blog_psm.md文件存在\n",
    "2. 包含Domain Models章节\n",
    "3. 包含Service Layer章节\n",
    "4. 包含REST API Design章节\n",
    "5. 包含Application Configuration章节\n",
    "6. 包含Testing Specifications章节\n",
    "\"\"\")\n",
    "\n",
    "print(f\"\\n执行结果: {result}\")"
   ]
  },
  {
   "cell_type": "markdown",
   "metadata": {},
   "source": [
    "## 验证文件是否真的生成了"
   ]
  },
  {
   "cell_type": "code",
   "execution_count": null,
   "metadata": {},
   "outputs": [],
   "source": [
    "# 检查PSM文件\n",
    "psm_file = os.path.join(work_dir, \"blog_psm.md\")\n",
    "\n",
    "print(\"=\"*60)\n",
    "print(\"验证结果\")\n",
    "print(\"=\"*60)\n",
    "\n",
    "if os.path.exists(psm_file):\n",
    "    print(f\"✅ PSM文件存在: {psm_file}\")\n",
    "    with open(psm_file, 'r', encoding='utf-8') as f:\n",
    "        content = f.read()\n",
    "        sections = [\n",
    "            \"Domain Models\",\n",
    "            \"Service Layer\",\n",
    "            \"REST API Design\",\n",
    "            \"Application Configuration\",\n",
    "            \"Testing Specifications\"\n",
    "        ]\n",
    "        for section in sections:\n",
    "            if section in content:\n",
    "                print(f\"  ✅ 包含章节: {section}\")\n",
    "            else:\n",
    "                print(f\"  ❌ 缺少章节: {section}\")\n",
    "else:\n",
    "    print(f\"❌ PSM文件不存在\")\n",
    "    print(\"\\n问题：Agent没有生成文件却可能报告成功\")"
   ]
  },
  {
   "cell_type": "markdown",
   "metadata": {},
   "source": [
    "## 测试代码生成的后置断言验证"
   ]
  },
  {
   "cell_type": "code",
   "execution_count": null,
   "metadata": {},
   "outputs": [],
   "source": [
    "# 创建代码生成Agent\n",
    "config = ReactAgentConfig(\n",
    "    work_dir=work_dir,\n",
    "    memory_level=MemoryLevel.SMART,\n",
    "    knowledge_files=[\"knowledge/mda/generation_knowledge.md\"],\n",
    "    enable_project_exploration=False,\n",
    "    **deepseek_config\n",
    ")\n",
    "\n",
    "generation_agent = GenericReactAgent(config, name=\"generation_agent\")\n",
    "generation_agent.interface = \"\"\"代码生成专家\n",
    "\n",
    "# 重要原则（来自generation_knowledge.md）\n",
    "0. 必须验证成功条件\n",
    "1. 专注生成，不做调试\n",
    "2. 增量生成\n",
    "3. 必须生成单元测试\n",
    "\"\"\"\n",
    "\n",
    "# 执行任务\n",
    "result = generation_agent.execute_task(\"\"\"\n",
    "# PSM文件\n",
    "blog_psm.md\n",
    "\n",
    "# 任务\n",
    "根据上面的PSM生成代码\n",
    "\n",
    "# 成功判定条件\n",
    "1. 生成了完整的FastAPI应用代码（app/main.py存在）\n",
    "2. 生成了完整的单元测试代码（tests/目录存在）\n",
    "3. 生成了readme.md\n",
    "\"\"\")\n",
    "\n",
    "print(f\"\\n执行结果: {result}\")"
   ]
  },
  {
   "cell_type": "markdown",
   "metadata": {},
   "source": [
    "## 验证代码文件"
   ]
  },
  {
   "cell_type": "code",
   "execution_count": null,
   "metadata": {},
   "outputs": [],
   "source": [
    "# 检查生成的文件\n",
    "files_to_check = [\n",
    "    \"app/main.py\",\n",
    "    \"tests\",\n",
    "    \"readme.md\"\n",
    "]\n",
    "\n",
    "print(\"=\"*60)\n",
    "print(\"验证代码生成结果\")\n",
    "print(\"=\"*60)\n",
    "\n",
    "for file in files_to_check:\n",
    "    file_path = os.path.join(work_dir, file)\n",
    "    if os.path.exists(file_path):\n",
    "        if os.path.isdir(file_path):\n",
    "            print(f\"✅ 目录存在: {file}\")\n",
    "            # 列出目录内容\n",
    "            for item in os.listdir(file_path):\n",
    "                print(f\"    - {item}\")\n",
    "        else:\n",
    "            print(f\"✅ 文件存在: {file}\")\n",
    "    else:\n",
    "        print(f\"❌ 不存在: {file}\")"
   ]
  },
  {
   "cell_type": "markdown",
   "metadata": {},
   "source": [
    "## 分析DeepSeek vs Kimi的表现\n",
    "\n",
    "对比两个模型在后置断言验证方面的表现：\n",
    "\n",
    "1. **是否真的生成了文件**\n",
    "2. **是否验证了成功条件**\n",
    "3. **失败时是否意识到并报告**"
   ]
  }
 ],
 "metadata": {
  "kernelspec": {
   "display_name": "Python 3",
   "language": "python",
   "name": "python3"
  },
  "language_info": {
   "codemirror_mode": {
    "name": "ipython",
    "version": 3
   },
   "file_extension": ".py",
   "mimetype": "text/x-python",
   "name": "python",
   "nbconvert_exporter": "python",
   "pygments_lexer": "ipython3",
   "version": "3.10.0"
  }
 },
 "nbformat": 4,
 "nbformat_minor": 2
}